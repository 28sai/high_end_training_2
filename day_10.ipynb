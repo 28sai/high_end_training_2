{
 "cells": [
  {
   "cell_type": "raw",
   "id": "cbdab29f-7a4e-42fb-b294-24d5032d5750",
   "metadata": {},
   "source": [
    "x = [4, 8, 14, 22, 36, 68]\n",
    "idhi oka list dhantlo\n",
    " 4-8 max prime number is 7\n",
    "8-14 max prime number is 13\n",
    "14-22 max prime number is 19\n",
    "22-36 max prime number is 31\n",
    "36-68 max prime number is 67\n",
    "sum of all max prime numbers = 137"
   ]
  },
  {
   "cell_type": "code",
   "execution_count": 6,
   "id": "a3822c6e-f691-4811-aff1-977c7ffdad6b",
   "metadata": {},
   "outputs": [],
   "source": [
    "def is_prime(n):\n",
    "    \n",
    "    if n<=1:\n",
    "        \n",
    "        return False\n",
    "    for i in range(2,int(n**0.5)+1):\n",
    "        if n%i==0:\n",
    "            return False\n",
    "            break\n",
    "    return True"
   ]
  },
  {
   "cell_type": "code",
   "execution_count": 15,
   "id": "8d81e162-f0bf-4afe-9ed4-d9a6bc0f57e1",
   "metadata": {},
   "outputs": [
    {
     "name": "stdout",
     "output_type": "stream",
     "text": [
      "19\n"
     ]
    }
   ],
   "source": [
    "x=[14,16,20,22]\n",
    "i=0\n",
    "j=1\n",
    "\n",
    "y=[]\n",
    "while i<=len(x)-2 and j<=len(x)-1:\n",
    "    mx=0\n",
    "    for k in range(x[i]+1,x[j]):\n",
    "        if is_prime(k):\n",
    "            mx=max(mx,k)\n",
    "    y.append(mx)\n",
    "    i+=1\n",
    "    j+=1\n",
    "print(sum(y))"
   ]
  },
  {
   "cell_type": "code",
   "execution_count": 14,
   "id": "980faabd-0dc1-41be-b5ff-9f3d20cf4ae8",
   "metadata": {},
   "outputs": [
    {
     "data": {
      "text/plain": [
       "'\\nl=[4,9,8,2,14,3,5,6]\\nn=3\\n  4 8 9 2 14 3 5 6\\n  | 2 8 9 14 3 5 6\\n  | | 8 9 14 3 5 6\\n  | | | 3 9 14 5 6\\n  | | | | 5 9 14 6\\n  | | | | | 6 9 14\\n  -----------------\\n  4 2 8 3 5 6 9 14\\n'"
      ]
     },
     "execution_count": 14,
     "metadata": {},
     "output_type": "execute_result"
    }
   ],
   "source": [
    "'''\n",
    "l=[4,9,8,2,14,3,5,6]\n",
    "n=3\n",
    "  4 8 9 2 14 3 5 6\n",
    "  | 2 8 9 14 3 5 6\n",
    "  | | 8 9 14 3 5 6\n",
    "  | | | 3 9 14 5 6\n",
    "  | | | | 5 9 14 6\n",
    "  | | | | | 6 9 14\n",
    "  -----------------\n",
    "  4 2 8 3 5 6 9 14\n",
    "'''"
   ]
  },
  {
   "cell_type": "code",
   "execution_count": 2,
   "id": "f4ef3328-2d20-48ce-885e-7acb6c5479c0",
   "metadata": {},
   "outputs": [
    {
     "name": "stdout",
     "output_type": "stream",
     "text": [
      "[4, 2, 8, 3, 5, 6, 9, 14]\n"
     ]
    }
   ],
   "source": [
    "x=[4,9,8,2,14,3,5,6]\n",
    "for i in range(len(x)):\n",
    "    z=x[i:i+3]\n",
    "    z.sort()\n",
    "    x[i:i+3]=z\n",
    "print(x)"
   ]
  },
  {
   "cell_type": "raw",
   "id": "6112240b-00b8-4572-aac9-035f52c916f3",
   "metadata": {},
   "source": [
    "inp=\"hello:5438,car:214,book:8799,apple:2187\"\n",
    "idhi input string annattu first hello undhi hello string length entha 5 .., 5 anedhi 5438 lo undhi so 5th character of hello print kaavali\n",
    "nxt car len(car)=3 but three ledhu 214 lo 3 kanna below/less number 2 ... two undhi so 2nd character of car print kaavali nxt book len of book 4 kani 4 below m lev so 'x' print kaavali nxt apple length emo 5 but 5 ledhu 5 below 2 undhi 2187 lo so 2nd character of apple p print avvali"
   ]
  },
  {
   "cell_type": "code",
   "execution_count": 32,
   "id": "ce3ec667-dfb0-4d6f-9ee2-68b6e2c36fd5",
   "metadata": {},
   "outputs": [
    {
     "name": "stdout",
     "output_type": "stream",
     "text": [
      "p\n"
     ]
    }
   ],
   "source": [
    "def fun(x,l):\n",
    "    if l>=0:\n",
    "        \n",
    "        if str(l) in x[1]:\n",
    "            print(x[0][l-1])\n",
    "            return \n",
    "        else:\n",
    "            return fun(x,l-1)\n",
    "    else:\n",
    "        return \"x\"\n",
    "            \n",
    "        \n",
    "s=\"apple:2187\"\n",
    "x=s.split(\":\")\n",
    "l=len(x[0])\n",
    "fun(x,l)"
   ]
  },
  {
   "cell_type": "code",
   "execution_count": 33,
   "id": "4f731008-faf9-4bdb-95cc-e6ebed45532e",
   "metadata": {},
   "outputs": [
    {
     "name": "stdout",
     "output_type": "stream",
     "text": [
      "oaxp\n"
     ]
    }
   ],
   "source": [
    "inp = \"hello:5438,car:214,book:8799,apple:2187\"\n",
    "\n",
    "def leng(x, y):\n",
    "    xi = len(x)\n",
    "    while xi not in map(int, str(y)):\n",
    "        xi -= 1\n",
    "        if xi < 1:\n",
    "            return 0  \n",
    "    return xi\n",
    "\n",
    "s = ''\n",
    "for i in inp.split(','):\n",
    "    x, y = i.split(':')\n",
    "    if str(len(x)) in str(y):\n",
    "        s += x[len(x) - 1]\n",
    "    else:\n",
    "        length = leng(x, y)\n",
    "        if length < 1:\n",
    "            s += 'x'\n",
    "        \n",
    "        else:\n",
    "            s += x[length - 1]\n",
    "\n",
    "print(s)"
   ]
  },
  {
   "cell_type": "raw",
   "id": "cb9a5d95-fa84-49f5-8ffd-d8ae958e1e17",
   "metadata": {},
   "source": [
    "         10\n",
    "    5           20\n",
    "1        7\n",
    "    6        8"
   ]
  },
  {
   "cell_type": "code",
   "execution_count": null,
   "id": "defdf85c-33b6-4980-a899-e24d9b349c11",
   "metadata": {},
   "outputs": [],
   "source": []
  }
 ],
 "metadata": {
  "kernelspec": {
   "display_name": "Python 3 (ipykernel)",
   "language": "python",
   "name": "python3"
  },
  "language_info": {
   "codemirror_mode": {
    "name": "ipython",
    "version": 3
   },
   "file_extension": ".py",
   "mimetype": "text/x-python",
   "name": "python",
   "nbconvert_exporter": "python",
   "pygments_lexer": "ipython3",
   "version": "3.12.1"
  }
 },
 "nbformat": 4,
 "nbformat_minor": 5
}
