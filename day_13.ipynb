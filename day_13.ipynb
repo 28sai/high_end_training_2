{
 "cells": [
  {
   "cell_type": "code",
   "execution_count": 27,
   "id": "b4c0854f-3923-467e-8a82-4fa46241575d",
   "metadata": {},
   "outputs": [
    {
     "name": "stdout",
     "output_type": "stream",
     "text": [
      "1 3\n",
      "2 5\n",
      "4 6\n",
      "5 8\n",
      "6 7\n",
      "7 9\n"
     ]
    }
   ],
   "source": [
    "\n",
    "\n",
    "lst1.sort()\n",
    "    \n",
    "for i,j in lst1:\n",
    "    print(i,j)"
   ]
  },
  {
   "cell_type": "code",
   "execution_count": 55,
   "id": "d4fd68d3-6438-40c0-b8bb-2564816744b1",
   "metadata": {},
   "outputs": [
    {
     "name": "stdout",
     "output_type": "stream",
     "text": [
      "{(1, 3): 5, (2, 5): 6, (4, 6): 5, (5, 8): 4, (6, 7): 11, (7, 9): 2}\n",
      "\n",
      "(1, 3) (4, 6)\n",
      "(1, 3) (5, 8)\n",
      "(1, 3) (6, 7)\n",
      "(1, 3) (7, 9)\n",
      "\n",
      "(2, 5) (5, 8)\n",
      "(2, 5) (6, 7)\n",
      "(2, 5) (7, 9)\n",
      "\n",
      "(4, 6) (6, 7)\n",
      "(4, 6) (7, 9)\n",
      "\n",
      "\n",
      "(6, 7) (7, 9)\n",
      "\n",
      "\n"
     ]
    }
   ],
   "source": [
    "lst1=[(1,3),(2,5),(4,6),(6,7),(5,8),(7,9)]\n",
    "lst2=[5,6,5,4,11,2]\n",
    "\n",
    "lst1.sort()\n",
    "d={lst1[i]:lst2[i] for i in range(len(lst1))}\n",
    "print(d)\n",
    "print()\n",
    "l=[]\n",
    "for i in range(len(lst1)):\n",
    "    l.append(lst1[i])\n",
    "    for j in range(i+1,len(lst1)):\n",
    "        if l[-1][1]<=lst1[j][0]:\n",
    "            print(l[-1],lst1[j])\n",
    "    print()\n",
    "            \n",
    "\n",
    "        "
   ]
  },
  {
   "cell_type": "code",
   "execution_count": 79,
   "id": "f34f9156-9a66-48e7-8113-630fbc5af1aa",
   "metadata": {},
   "outputs": [
    {
     "name": "stdout",
     "output_type": "stream",
     "text": [
      "{5: (4, 6), 6: (2, 5), 4: (5, 8), 11: (6, 7), 2: (7, 9)}\n",
      "\n"
     ]
    }
   ],
   "source": [
    "lst1=[(1,3),(2,5),(4,6),(6,7),(5,8),(7,9)]\n",
    "lst2=[5,6,5,4,11,2]\n",
    "\n",
    "lst1.sort()\n",
    "d={lst2[i]:lst1[i] for i in range(len(lst1))}\n",
    "print(d)\n",
    "print()\n"
   ]
  },
  {
   "cell_type": "code",
   "execution_count": 113,
   "id": "330c85e7-5c37-45ad-84d3-81574fa3eb3e",
   "metadata": {},
   "outputs": [
    {
     "name": "stdout",
     "output_type": "stream",
     "text": [
      "[5, 6, 10, 14, 17, 16]\n",
      "17\n"
     ]
    }
   ],
   "source": [
    "lst1=[(1,3),(2,5),(4,6),(6,7),(5,8),(7,9)]\n",
    "lst2=[5,6,5,4,11,2]\n",
    "l=lst2.copy()\n",
    "i=1\n",
    "j=0\n",
    "for i in range(1,len(lst1)):\n",
    "    for j in range(i):\n",
    "        if lst1[j][1]<=lst1[i][0]:\n",
    "            if l[i]<l[j]+lst2[i]:\n",
    "                l[i]=l[j]+lst2[i]\n",
    "print(l)\n",
    "print(max(l))"
   ]
  },
  {
   "cell_type": "code",
   "execution_count": 165,
   "id": "bd9ed401-13a1-4dfc-abf7-31826a6acddc",
   "metadata": {},
   "outputs": [
    {
     "name": "stdout",
     "output_type": "stream",
     "text": [
      "[[0, 0, 0, 0, 0, 0], [0, 0, 0, 0, 0, 0], [0, 0, 0, 0, 0, 0], [0, 0, 0, 0, 0, 0], [0, 0, 0, 0, 0, 0]]\n",
      "3\n",
      "\n"
     ]
    }
   ],
   "source": [
    "s1=\"abcd\"\n",
    "s2=\"axbdc\"\n",
    "s1l=len(s1)\n",
    "s2l=len(s2)\n",
    "s=\"\"\n",
    "l=[]\n",
    "for i in range(s1l+1):\n",
    "    row=[]\n",
    "    for j in range(s2l+1):\n",
    "        row.append(0)\n",
    "    l.append(row)\n",
    "print(l)\n",
    "for i in range(1,s1l+1):\n",
    "    for j in range(1,s2l+1):\n",
    "        if s1[i-1]==s2[j-1]:\n",
    "\n",
    "            l[i][j]=l[i-1][j-1]+1\n",
    "        else:\n",
    "            l[i][j]=max(l[i-1][j],l[i][j-1])\n",
    "print(l[s1l][s2l])\n",
    "print(s)"
   ]
  },
  {
   "cell_type": "code",
   "execution_count": 136,
   "id": "09a91dda-7e7f-4c17-9081-334a44fd1130",
   "metadata": {},
   "outputs": [
    {
     "data": {
      "text/plain": [
       "[[0, 0, 0, 0, 0, 0],\n",
       " [0, 0, 0, 0, 0, 0],\n",
       " [0, 0, 0, 0, 0, 0],\n",
       " [0, 0, 0, 0, 0, 0],\n",
       " [0, 0, 0, 0, 0, 0]]"
      ]
     },
     "execution_count": 136,
     "metadata": {},
     "output_type": "execute_result"
    }
   ],
   "source": [
    "l=[[0]*(s2l+1) for i in range(s1l+1)]\n",
    "l"
   ]
  },
  {
   "cell_type": "code",
   "execution_count": 166,
   "id": "098ac728-2de8-4057-a1a9-4ba233bc2d85",
   "metadata": {},
   "outputs": [
    {
     "name": "stdout",
     "output_type": "stream",
     "text": [
      "abd\n"
     ]
    }
   ],
   "source": [
    "s=\"\"\n",
    "while s1l>0 and s2l>0:\n",
    "    if s1[s1l-1]==s2[s2l-1]:\n",
    "        s+=s1[s1l-1]\n",
    "        s1l-=1\n",
    "        s2l-=1\n",
    "    elif l[s1l-1][s2l]>l[s1l][s2l-1]:\n",
    "        s1l-=1\n",
    "    else:\n",
    "        s2l-= 1\n",
    "print(s[::-1])"
   ]
  },
  {
   "cell_type": "code",
   "execution_count": 177,
   "id": "910c8d25-c568-4ddc-9dbc-38110ee06757",
   "metadata": {},
   "outputs": [
    {
     "name": "stdout",
     "output_type": "stream",
     "text": [
      "5\n"
     ]
    }
   ],
   "source": [
    "#number of islands\n",
    "\n",
    "def no_islands(grid):\n",
    "    c=0\n",
    "    rows=len(grid)\n",
    "    cols=len(grid[0])\n",
    "    mx=0\n",
    "    def dfs(i,j):\n",
    "        if i<0 or j<0 or i>=rows or j>=cols or grid[i][j]!=\"1\":\n",
    "            return \n",
    "        grid[i][j]=\"0\"\n",
    "        \n",
    "        dfs(i-1,j)\n",
    "        dfs(i+1,j)\n",
    "        dfs(i,j-1)\n",
    "        dfs(i,j+1)\n",
    "    for i in range(rows):\n",
    "        for j in range(cols):\n",
    "            if grid[i][j]==\"1\":\n",
    "                c+=1\n",
    "                dfs(i,j)\n",
    "    return c\n",
    "grid = [\n",
    "  [\"0\",\"1\",\"0\",\"0\",\"1\"],\n",
    "  [\"1\",\"0\",\"0\",\"1\",\"1\"],\n",
    "  [\"0\",\"0\",\"0\",\"0\",\"0\"],\n",
    "  [\"1\",\"0\",\"0\",\"0\",\"0\"],\n",
    "  [\"1\",\"0\",\"0\",\"0\",\"1\"]\n",
    "]\n",
    "print(no_islands(grid))"
   ]
  },
  {
   "cell_type": "code",
   "execution_count": null,
   "id": "3b486754-d20e-42c7-b5e7-9df2e9ccbb38",
   "metadata": {},
   "outputs": [],
   "source": []
  },
  {
   "cell_type": "code",
   "execution_count": 176,
   "id": "018dca51-8eb7-4ad4-a772-253163cae8fe",
   "metadata": {},
   "outputs": [
    {
     "name": "stdout",
     "output_type": "stream",
     "text": [
      "(5, 3)\n"
     ]
    }
   ],
   "source": [
    "#number of islands\n",
    "\n",
    "def no_islands(grid):\n",
    "    c=0\n",
    "    rows=len(grid)\n",
    "    cols=len(grid[0])\n",
    "    mx=0\n",
    "    def dfs(i,j):\n",
    "        if i<0 or j<0 or i>=rows or j>=cols or grid[i][j]!=\"1\":\n",
    "            return 0\n",
    "        grid[i][j]=\"0\"\n",
    "        a=1\n",
    "        a+=dfs(i-1,j)\n",
    "        a+=dfs(i+1,j)\n",
    "        a+=dfs(i,j-1)\n",
    "        a+=dfs(i,j+1)\n",
    "        return a\n",
    "    for i in range(rows):\n",
    "        for j in range(cols):\n",
    "            if grid[i][j]==\"1\":\n",
    "                c+=1\n",
    "                i_a=dfs(i,j)\n",
    "                mx=max(mx,i_a)\n",
    "    return c,mx\n",
    "grid = [\n",
    "  [\"0\",\"1\",\"0\",\"0\",\"1\"],\n",
    "  [\"1\",\"0\",\"0\",\"1\",\"1\"],\n",
    "  [\"0\",\"0\",\"0\",\"0\",\"0\"],\n",
    "  [\"1\",\"0\",\"0\",\"0\",\"0\"],\n",
    "  [\"1\",\"0\",\"0\",\"0\",\"1\"]\n",
    "]\n",
    "print(no_islands(grid))"
   ]
  },
  {
   "cell_type": "code",
   "execution_count": 213,
   "id": "33ca12f3-639e-4b45-8074-2e7229eb075d",
   "metadata": {},
   "outputs": [
    {
     "name": "stdout",
     "output_type": "stream",
     "text": [
      "2\n"
     ]
    }
   ],
   "source": [
    "def mn_coins(arr,tar):\n",
    "    arr.sort()\n",
    "    res=[]\n",
    "    def go_back(rem,lst,start):\n",
    "        if rem==0:\n",
    "            res.append(lst[:])\n",
    "            return\n",
    "        elif rem<0:\n",
    "            return \n",
    "        for i in range(start,len(arr)):\n",
    "            if arr[i]>rem:\n",
    "                break\n",
    "            lst.append(arr[i])\n",
    "            go_back(rem-arr[i],lst,i)\n",
    "            lst.pop()\n",
    "    go_back(tar,[],0)\n",
    "    return res\n",
    "x=mn_coins([4,2,4],8)\n",
    "mn=float('inf')\n",
    "for i in x:\n",
    "    mn=min(mn,len(i))\n",
    "if mn==float('inf'):\n",
    "    print(-1)\n",
    "else:\n",
    "    print(mn)"
   ]
  },
  {
   "cell_type": "code",
   "execution_count": 217,
   "id": "c6951be4-ed1c-43af-bbbb-f57d0831c750",
   "metadata": {},
   "outputs": [
    {
     "name": "stdin",
     "output_type": "stream",
     "text": [
      " 65476\n"
     ]
    },
    {
     "name": "stdout",
     "output_type": "stream",
     "text": [
      "181 10 2 4\n"
     ]
    }
   ],
   "source": [
    "n=int(input())\n",
    "y=n//360\n",
    "m=(n%360)//30\n",
    "w=((n%360)%30)//6\n",
    "d=((n%360)%30)%6\n",
    "print(y,m,w,d)"
   ]
  },
  {
   "cell_type": "code",
   "execution_count": null,
   "id": "058af4e3-236e-4634-a0f1-cc5f3c611074",
   "metadata": {},
   "outputs": [],
   "source": []
  },
  {
   "cell_type": "code",
   "execution_count": null,
   "id": "fee73526-ce0f-4b17-b7e5-282038dbdcf8",
   "metadata": {},
   "outputs": [],
   "source": []
  }
 ],
 "metadata": {
  "kernelspec": {
   "display_name": "Python 3 (ipykernel)",
   "language": "python",
   "name": "python3"
  },
  "language_info": {
   "codemirror_mode": {
    "name": "ipython",
    "version": 3
   },
   "file_extension": ".py",
   "mimetype": "text/x-python",
   "name": "python",
   "nbconvert_exporter": "python",
   "pygments_lexer": "ipython3",
   "version": "3.12.1"
  }
 },
 "nbformat": 4,
 "nbformat_minor": 5
}
