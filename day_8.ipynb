{
 "cells": [
  {
   "cell_type": "code",
   "execution_count": null,
   "id": "c36e4ab8-6898-4fa1-a502-d16eb2afbad8",
   "metadata": {},
   "outputs": [],
   "source": []
  },
  {
   "cell_type": "code",
   "execution_count": 40,
   "id": "d9380b31-03e4-4e49-94f3-7e820ee5db1d",
   "metadata": {},
   "outputs": [
    {
     "name": "stdout",
     "output_type": "stream",
     "text": [
      "[[2, 3, 1], [3, 4], [3, 2]]\n"
     ]
    }
   ],
   "source": [
    "lst=[2,3,1,3,4,3,2]\n",
    "res=[]\n",
    "sublist=[]\n",
    "visi=set()\n",
    "for i in lst:\n",
    "    if i in sublist:\n",
    "        res.append(sublist)\n",
    "        sublist=[]\n",
    "        visi=set()\n",
    "    sublist.append(i)\n",
    "    visi.add(i)\n",
    "if sublist:\n",
    "    res.append(sublist)\n",
    "print(res)"
   ]
  },
  {
   "cell_type": "code",
   "execution_count": 53,
   "id": "6c9fc4a2-5adf-4de8-9254-dbd30a0949b9",
   "metadata": {},
   "outputs": [
    {
     "name": "stdin",
     "output_type": "stream",
     "text": [
      " 1 2 3 4 3 2 5 3 1 1 1 3\n"
     ]
    },
    {
     "name": "stdout",
     "output_type": "stream",
     "text": [
      "[[1, 2, 3, 4, 5], [3, 2, 1], [3, 1], [1, 3]]\n"
     ]
    }
   ],
   "source": [
    "def fun(l):\n",
    "    res=[]\n",
    "    sublist=[]\n",
    "    skip=[]\n",
    "    visi=set() \n",
    "    for i in l:\n",
    "        if i not in visi:\n",
    "            sublist.append(i)\n",
    "            visi.add(i)\n",
    "        else:\n",
    "            skip.append(i)\n",
    "    res.append(sublist)   \n",
    "    if skip:  \n",
    "        res.extend(fun(skip))\n",
    "    return res\n",
    "l=list(map(int, input().split()))  \n",
    "print(fun(l))\n"
   ]
  },
  {
   "cell_type": "code",
   "execution_count": 52,
   "id": "f4e8b2b9-7747-48eb-848e-767a09b8580f",
   "metadata": {},
   "outputs": [
    {
     "name": "stdout",
     "output_type": "stream",
     "text": [
      "[[2, 3, 1, 4], [3, 2], [3]]\n"
     ]
    }
   ],
   "source": [
    "l=[2,3,1,3,4,3,2]\n",
    "res=[]\n",
    "c=0\n",
    "while(c!=len(l)):\n",
    "    lst=[]\n",
    "    for i in range(len(l)):\n",
    "        if (not str(l[i]).isalpha()):\n",
    "            if l[i] not in lst:\n",
    "                c+=1\n",
    "                lst.append(l[i])\n",
    "                l[i]=\"a\"\n",
    "                \n",
    "    res.append(lst)\n",
    "print(res)"
   ]
  },
  {
   "cell_type": "code",
   "execution_count": 73,
   "id": "c9671110-8e87-4eab-86d0-48bc612c9192",
   "metadata": {},
   "outputs": [
    {
     "name": "stdout",
     "output_type": "stream",
     "text": [
      "yes\n"
     ]
    }
   ],
   "source": [
    "s=\"the quick brown fox jumps over the lazy dog\"\n",
    "s=sorted(s)\n",
    "# print(s)\n",
    "flag=0\n",
    "i=0\n",
    "j=len(s)-1\n",
    "while i<j:\n",
    "    if ord(s[i])==ord(s[i+1])-1:\n",
    "        flag=1\n",
    "    i+=1\n",
    "if flag:\n",
    "    print(\"yes\")\n",
    "else:\n",
    "    print(\"no\")"
   ]
  },
  {
   "cell_type": "code",
   "execution_count": 90,
   "id": "f6bc9c12-b883-4d92-b2f2-c1922a1e6c71",
   "metadata": {},
   "outputs": [
    {
     "name": "stdout",
     "output_type": "stream",
     "text": [
      "abcdefghijklmnopqrstuvwxyz"
     ]
    }
   ],
   "source": [
    "a=\"the quick brown fox jumps over the lazy dog\"\n",
    "\n",
    "a=a.replace(\" \",\"\")\n",
    "a=set(a)\n",
    "print(\"\".join(sorted(a)),end=\"\")"
   ]
  },
  {
   "cell_type": "code",
   "execution_count": 94,
   "id": "a5202b64-5d39-4560-8c25-a96a5509f963",
   "metadata": {},
   "outputs": [
    {
     "name": "stdout",
     "output_type": "stream",
     "text": [
      "no\n"
     ]
    }
   ],
   "source": [
    "a=\"the qbrown fox jumps over the lazy dog\"\n",
    "a=set(a)\n",
    "low=all('a'<=i<='z' for i in a if i.isalpha())\n",
    "alph=set('abcdefghijklmnopqrstuvwxyz').issubset(a)\n",
    "if low and alph:\n",
    "    print(\"yes\")\n",
    "else:\n",
    "    print(\"no\")"
   ]
  },
  {
   "cell_type": "code",
   "execution_count": 95,
   "id": "ae88c4b4-fbcf-4600-8acd-19def7dd810e",
   "metadata": {},
   "outputs": [
    {
     "name": "stdout",
     "output_type": "stream",
     "text": [
      "no\n"
     ]
    }
   ],
   "source": [
    "for i in range(97,123):\n",
    "    if chr(i) not in a:\n",
    "        print(\"no\")\n",
    "        break\n",
    "else:\n",
    "    print(\"yes\")"
   ]
  },
  {
   "cell_type": "code",
   "execution_count": 131,
   "id": "3de7d9c9-1e10-4c75-a998-6158cb0b2f16",
   "metadata": {},
   "outputs": [
    {
     "name": "stdout",
     "output_type": "stream",
     "text": [
      "8\n"
     ]
    }
   ],
   "source": [
    "def longes_substr(s):\n",
    "    start=0\n",
    "    max_len=0\n",
    "    d={}\n",
    "    for i in range(len(s)):\n",
    "        if s[i] in d and d[s[i]]>=start:\n",
    "            start=d[s[i]]+1\n",
    "        d[s[i]]=i\n",
    "        max_len=max(max_len,i-start+1)\n",
    "    return max_len\n",
    "s=\"abcdeefghijkl\"\n",
    "print(longes_substr(s))"
   ]
  },
  {
   "cell_type": "code",
   "execution_count": 128,
   "id": "9f931820-eba0-4f2c-b0a3-b05588d05781",
   "metadata": {},
   "outputs": [
    {
     "name": "stdout",
     "output_type": "stream",
     "text": [
      "4\n"
     ]
    }
   ],
   "source": []
  },
  {
   "cell_type": "code",
   "execution_count": null,
   "id": "d47681c1-b7f6-410f-b21b-d6d025409daa",
   "metadata": {},
   "outputs": [],
   "source": []
  },
  {
   "cell_type": "code",
   "execution_count": null,
   "id": "345f630f-1fef-4b06-811b-699f0afb93dc",
   "metadata": {},
   "outputs": [],
   "source": []
  },
  {
   "cell_type": "code",
   "execution_count": 15,
   "id": "659b6c58-4590-4d0d-a313-0bd72a88585f",
   "metadata": {},
   "outputs": [
    {
     "name": "stdout",
     "output_type": "stream",
     "text": [
      "8\n"
     ]
    }
   ],
   "source": [
    "def trees(grid,row,col):\n",
    "    rows=len(grid)\n",
    "    cols=len(grid[0])\n",
    "    if row<0 or row>=rows or col<0 or col>=cols or grid[row][col]==0:\n",
    "        return \n",
    "    grid[row][col]=0\n",
    "    trees(grid,row-1,col)\n",
    "    trees(grid,row+1,col)\n",
    "    trees(grid,row,col-1)\n",
    "    trees(grid,row,col+1)\n",
    "def rem(grid):\n",
    "    c=0\n",
    "    for row in grid:\n",
    "        c+=sum(row)\n",
    "    return c\n",
    "grid=[[0,1,1,1,0,1],\n",
    "        [0,1,0,1,0,0],\n",
    "        [1,0,1,1,0,0],\n",
    "        [0,0,0,1,1,1],\n",
    "        [1,1,0,0,0,1],\n",
    "        [1,1,1,0,1,0]]\n",
    "row=4\n",
    "col=6\n",
    "trees(grid,row-1,col-1)\n",
    "print(rem(grid))"
   ]
  },
  {
   "cell_type": "code",
   "execution_count": 37,
   "id": "0aae84fd-4f1e-4d82-944a-a6ce54bdeeb5",
   "metadata": {},
   "outputs": [
    {
     "name": "stdin",
     "output_type": "stream",
     "text": [
      " 4\n",
      " tued\n",
      " abol\n",
      " soot\n",
      " wekl\n"
     ]
    },
    {
     "name": "stdout",
     "output_type": "stream",
     "text": [
      "no\n"
     ]
    }
   ],
   "source": [
    "def searchword(n,worfs,target):\n",
    "    rows=len(grid)\n",
    "    cols=len(grid[0])\n",
    "    def backtrack(row,col,idx):\n",
    "        if idx==len(target):\n",
    "            return True\n",
    "        if row<0 or col<0 or row>=rows or col>=cols or grid[row][col]!=target[idx]:\n",
    "            return False\n",
    "        x=grid[row][col]\n",
    "        grid[row][col]='2'        \n",
    "        dorikindhi=(backtrack(row-1,col,idx+1) or backtrack(row+1,col,idx+1) or backtrack(row,col-1,idx+1) or backtrack(row,col+1,idx+1))        \n",
    "        grid[row][col]=x\n",
    "        return dorikindhi\n",
    "    for i in range(rows):\n",
    "        for j in range(cols):\n",
    "            if grid[i][j]==target[0]:\n",
    "                if backtrack(i,j,0):\n",
    "                    print(\"yes\")\n",
    "                    return\n",
    "    print(\"no\")   \n",
    "n=int(input())\n",
    "grid=[]\n",
    "target=\"boook\"\n",
    "for i in range(n):\n",
    "    a=input()\n",
    "    grid.append(a)\n",
    "grid=[list(row) for row in grid]\n",
    "searchword(n,grid,target)"
   ]
  },
  {
   "cell_type": "code",
   "execution_count": null,
   "id": "f8e70006-62b1-465e-8090-066dfb285b32",
   "metadata": {},
   "outputs": [],
   "source": [
    "class Solution:\n",
    "    def exist(self, board: List[List[str]], word: str) -> bool:\n",
    "        rows, cols = len(board), len(board[0])\n",
    "        \n",
    "        def backtrack(row, col, idx):\n",
    "            if idx == len(word):\n",
    "                return True\n",
    "            if row < 0 or col < 0 or row >= rows or col >= cols or board[row][col] != word[idx]:\n",
    "                return False\n",
    "            \n",
    "            temp = board[row][col]\n",
    "            board[row][col] = '#'\n",
    "            \n",
    "            found = (backtrack(row-1, col, idx+1) or\n",
    "                     backtrack(row+1, col, idx+1) or\n",
    "                     backtrack(row, col-1, idx+1) or\n",
    "                     backtrack(row, col+1, idx+1))\n",
    "            \n",
    "            board[row][col] = temp\n",
    "            return found\n",
    "        \n",
    "        for i in range(rows):\n",
    "            for j in range(cols):\n",
    "                if board[i][j] == word[0]:\n",
    "                    if backtrack(i, j, 0):\n",
    "                        return True\n",
    "        return False\n"
   ]
  },
  {
   "cell_type": "code",
   "execution_count": 38,
   "id": "71f9982b-80c3-457f-a548-6a772b2f16e6",
   "metadata": {},
   "outputs": [],
   "source": [
    "class Node:\n",
    "    def __init__(self, key):\n",
    "        self.left = None\n",
    "        self.right = None\n",
    "        self.val = key\n",
    "\n",
    "root = Node(10)\n",
    "root.left = Node(5)\n",
    "root.right = Node(20)\n",
    "root.left.left = Node(1)\n",
    "root.right.right = Node(7)\n",
    "\n"
   ]
  },
  {
   "cell_type": "code",
   "execution_count": 39,
   "id": "8731a0ad-0be7-4d2f-aeb6-963f29f325d8",
   "metadata": {},
   "outputs": [
    {
     "name": "stdout",
     "output_type": "stream",
     "text": [
      "In-order traversal: \n",
      "1 5 10 20 7 \n",
      "Pre-order traversal: \n",
      "10 5 1 20 7 \n",
      "Post-order traversal: \n",
      "1 5 7 20 10 "
     ]
    }
   ],
   "source": [
    "def inorder(root):\n",
    "    if root:\n",
    "        inorder(root.left)\n",
    "        print(root.val, end=\" \")\n",
    "        inorder(root.right)\n",
    "def preorder(root):\n",
    "    if root:\n",
    "        print(root.val, end=\" \")\n",
    "        preorder(root.left)\n",
    "        preorder(root.right)\n",
    "def postorder(root):\n",
    "    if root:\n",
    "        postorder(root.left)\n",
    "        postorder(root.right)\n",
    "        print(root.val, end=\" \")\n",
    "\n",
    "print(\"In-order traversal: \")\n",
    "inorder(root)\n",
    "print(\"\\nPre-order traversal: \")\n",
    "preorder(root)\n",
    "print(\"\\nPost-order traversal: \")\n",
    "postorder(root)\n"
   ]
  },
  {
   "cell_type": "code",
   "execution_count": null,
   "id": "e583317c-f25a-4452-b083-b093270c751d",
   "metadata": {},
   "outputs": [],
   "source": []
  }
 ],
 "metadata": {
  "kernelspec": {
   "display_name": "Python 3 (ipykernel)",
   "language": "python",
   "name": "python3"
  },
  "language_info": {
   "codemirror_mode": {
    "name": "ipython",
    "version": 3
   },
   "file_extension": ".py",
   "mimetype": "text/x-python",
   "name": "python",
   "nbconvert_exporter": "python",
   "pygments_lexer": "ipython3",
   "version": "3.12.1"
  }
 },
 "nbformat": 4,
 "nbformat_minor": 5
}
