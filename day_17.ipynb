{
 "cells": [
  {
   "cell_type": "code",
   "execution_count": 1,
   "id": "e2bbb8a7-3a65-44e7-9d6c-b2e207334e10",
   "metadata": {},
   "outputs": [
    {
     "data": {
      "text/plain": [
       "['school', 'car', 'apple', 'hi']"
      ]
     },
     "execution_count": 1,
     "metadata": {},
     "output_type": "execute_result"
    }
   ],
   "source": [
    "a=[\"school\",\"car\",\"apple\",\"hi\"]\n",
    "      \n",
    "a.sort(key=max,reverse=1)\n",
    "a"
   ]
  },
  {
   "cell_type": "code",
   "execution_count": 2,
   "id": "7e88be3e-7548-40dd-a3e9-c11a31afc2d7",
   "metadata": {},
   "outputs": [
    {
     "data": {
      "text/plain": [
       "[(6, 'school'), (5, 'apple'), (3, 'car'), (2, 'hi')]"
      ]
     },
     "execution_count": 2,
     "metadata": {},
     "output_type": "execute_result"
    }
   ],
   "source": [
    "d={}\n",
    "for i in a:\n",
    "    d[len(i)]=i\n",
    "sorted(d.items(),reverse=True)"
   ]
  },
  {
   "cell_type": "code",
   "execution_count": 3,
   "id": "50b2f4f8-844e-473f-bbb8-3ebf5c122c41",
   "metadata": {},
   "outputs": [
    {
     "data": {
      "text/plain": [
       "[[7, 1], [9, 3], [3, 5], [5, 6], [2, 8]]"
      ]
     },
     "execution_count": 3,
     "metadata": {},
     "output_type": "execute_result"
    }
   ],
   "source": [
    "def sor(x):\n",
    "    return x[1]\n",
    "a=[[3,5],[7,1],[2,8],[9,3],[5,6]]\n",
    "a.sort(key=sor)\n",
    "a"
   ]
  },
  {
   "cell_type": "code",
   "execution_count": 4,
   "id": "ba193cc1-c006-4f2d-875d-c29160ddea9b",
   "metadata": {},
   "outputs": [
    {
     "name": "stdout",
     "output_type": "stream",
     "text": [
      "<function foo.<locals>.<lambda> at 0x000002940E61B7E0>\n",
      "22\n"
     ]
    }
   ],
   "source": [
    "def foo(n):\n",
    "    return lambda a : a * n\n",
    "\n",
    "res=foo(2)\n",
    "print(res)\n",
    "print(res(11))\n"
   ]
  },
  {
   "cell_type": "code",
   "execution_count": 5,
   "id": "95999012-fb58-42c9-920c-c7b495669b73",
   "metadata": {},
   "outputs": [
    {
     "name": "stdout",
     "output_type": "stream",
     "text": [
      "23\n"
     ]
    }
   ],
   "source": [
    "def func(a, b):\n",
    "    return a + b\n",
    "\n",
    "result = func(*\"23\")\n",
    "print(result)"
   ]
  },
  {
   "cell_type": "code",
   "execution_count": 6,
   "id": "105f7383-70c4-4e29-856a-e89cb35c6207",
   "metadata": {},
   "outputs": [
    {
     "name": "stdout",
     "output_type": "stream",
     "text": [
      "[(5, 2, 2), (2, 3, 1), (5, 8, 2), (3, 7, 3), (7, 9, 1), (9, 4, 2), (8, 6, 4)]\n"
     ]
    }
   ],
   "source": [
    "graph={\n",
    "    5:{2:2,3:2,8: 2},\n",
    "    2:{5:2,3:1},\n",
    "    3:{2:1,7:3,5:2,8:3},\n",
    "    7:{3:3,9:1},\n",
    "    8:{5:2,6:4,3:3},\n",
    "    6:{8:4,9:2},\n",
    "    4:{9:2},\n",
    "    9:{4:2}\n",
    "}\n",
    "q=[]\n",
    "t=[]\n",
    "vi=[5]  \n",
    "for nx,c in graph[vi[-1]].items():\n",
    "    q.append((vi[-1],nx,c))\n",
    "while q:\n",
    "    q.sort(key=lambda x:x[-1])\n",
    "    edge=q.pop(0)\n",
    "    frm,to,c=edge\n",
    "    if to not in vi:\n",
    "        vi.append(to)\n",
    "        t.append(edge)\n",
    "        for nx, c in graph[to].items():\n",
    "            if nx not in vi:\n",
    "                q.append((to,nx,c))\n",
    "print(t)"
   ]
  },
  {
   "cell_type": "code",
   "execution_count": 14,
   "id": "0e8281c9-df9c-4bd5-99c7-ef3a9e3b0d74",
   "metadata": {},
   "outputs": [
    {
     "name": "stdout",
     "output_type": "stream",
     "text": [
      "[(1, 2, 3), (1, 3, 2), (1, 7, 9), (2, 2, 5), (2, 3, 5), (2, 4, 9), (2, 5, 2), (2, 5, 3), (2, 5, 8), (2, 6, 9), (2, 8, 5), (2, 9, 4), (3, 3, 7), (3, 3, 8), (3, 7, 3), (3, 8, 3), (4, 6, 8), (4, 8, 6)]\n",
      "[(2, 3, 1), (7, 9, 1), (2, 5, 2), (4, 9, 2), (5, 8, 2), (6, 9, 2), (3, 7, 3)]\n"
     ]
    }
   ],
   "source": [
    "graph={\n",
    "    5:{2:2,3:2,8: 2},\n",
    "    2:{5:2,3:1},\n",
    "    3:{2:1,7:3,5:2,8:3},\n",
    "    7:{3:3,9:1},\n",
    "    8:{5:2,6:4,3:3},\n",
    "    6:{8:4,9:2},\n",
    "    4:{9:2},\n",
    "    9:{4:2}\n",
    "}\n",
    "edges=[]\n",
    "for u in graph:\n",
    "    for v in graph[u]:\n",
    "        edges.append((graph[u][v],u,v))\n",
    "edges.sort()\n",
    "print(edges)\n",
    "p={}\n",
    "r={}\n",
    "def fun1(n):\n",
    "    if p[n]==n:\n",
    "        return n\n",
    "    else:\n",
    "        return fun1(p[n])\n",
    "def fun2(n1,n2):\n",
    "    r1=fun1(n1)\n",
    "    r2=fun1(n2)\n",
    "    if r[r1]>r[r2]:\n",
    "        p[r2]=r1\n",
    "    else:\n",
    "        p[r1]=r2\n",
    "        if r[r1]==r[r2]:\n",
    "            r[r2]+=1\n",
    "for u in graph:\n",
    "    p[u]=u\n",
    "    r[u]=0\n",
    "t=[]\n",
    "for c, u, v in edges:\n",
    "    if fun1(u)!=fun1(v):\n",
    "        fun2(u, v)\n",
    "        t.append((u, v, c))\n",
    "print(t)\n"
   ]
  },
  {
   "cell_type": "code",
   "execution_count": null,
   "id": "6784ae43-50c0-47dc-910e-8af6bbd5ce11",
   "metadata": {},
   "outputs": [],
   "source": []
  }
 ],
 "metadata": {
  "kernelspec": {
   "display_name": "Python 3 (ipykernel)",
   "language": "python",
   "name": "python3"
  },
  "language_info": {
   "codemirror_mode": {
    "name": "ipython",
    "version": 3
   },
   "file_extension": ".py",
   "mimetype": "text/x-python",
   "name": "python",
   "nbconvert_exporter": "python",
   "pygments_lexer": "ipython3",
   "version": "3.12.1"
  }
 },
 "nbformat": 4,
 "nbformat_minor": 5
}
