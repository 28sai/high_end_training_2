{
 "cells": [
  {
   "cell_type": "code",
   "execution_count": 5,
   "id": "7933cec2-c029-48da-9902-d957564070cb",
   "metadata": {},
   "outputs": [
    {
     "name": "stdout",
     "output_type": "stream",
     "text": [
      "5\n",
      "7\n",
      "3\n",
      "4\n",
      "8\n",
      "2\n"
     ]
    }
   ],
   "source": [
    "def bfs(d,start):\n",
    "    visi=set()\n",
    "    queue=[start]\n",
    "    while queue:\n",
    "        node=queue.pop(0)\n",
    "        if node not in visi:\n",
    "            print(node)\n",
    "            visi.add(node)\n",
    "            if node in d:  \n",
    "                for nxt in d[node]:\n",
    "                    if nxt not in visi:\n",
    "                        queue.append(nxt)\n",
    "d={5:[7,3],7:[5,4,3],4:[7,8,2],8:[3,4,2],3:[5,7,8],2:[4,8]}\n",
    "bfs(d,5)"
   ]
  },
  {
   "cell_type": "code",
   "execution_count": null,
   "id": "9a0e65f9-f47e-4660-a603-cf6092f07116",
   "metadata": {},
   "outputs": [],
   "source": []
  },
  {
   "cell_type": "code",
   "execution_count": null,
   "id": "786992ed-d633-4a0c-960b-459ccf0e15ff",
   "metadata": {},
   "outputs": [],
   "source": []
  },
  {
   "cell_type": "code",
   "execution_count": 30,
   "id": "bd86b05b-b9d5-4446-bc11-cbad7ec9dfe8",
   "metadata": {},
   "outputs": [
    {
     "name": "stdout",
     "output_type": "stream",
     "text": [
      "1\n",
      "2\n",
      "6\n",
      "54\n",
      "7\n",
      "8\n",
      "9\n",
      "10\n"
     ]
    }
   ],
   "source": [
    "def fun(d,start):\n",
    "    visi=set()\n",
    "    queue=[start]\n",
    "    while queue:\n",
    "        node=queue.pop(0)\n",
    "        if node not in visi:\n",
    "            print(node)\n",
    "            visi.add(node)\n",
    "            if node in d:\n",
    "                for nei in d[node]:\n",
    "                    if nei not in visi:\n",
    "                        queue.append(nei)\n",
    "\n",
    "d={1:[2,6,54],2:[1,6,7],7:[2,8,9],9:[7,10],10:[9,8],8:[6,7,10],6:[2,1,8,54],54:[1,6]}\n",
    "fun(d,1)"
   ]
  },
  {
   "cell_type": "code",
   "execution_count": null,
   "id": "baf752a7-c32e-4077-a367-988c455a2733",
   "metadata": {},
   "outputs": [],
   "source": []
  },
  {
   "cell_type": "code",
   "execution_count": 56,
   "id": "65414479-65f6-488c-9421-6dcedb20fd6d",
   "metadata": {},
   "outputs": [
    {
     "name": "stdout",
     "output_type": "stream",
     "text": [
      "5\n",
      "7\n",
      "3\n",
      "4\n",
      "8\n",
      "2\n",
      "{5: 0, 7: 1, 4: 3, 8: 6, 3: 2, 2: 10}\n"
     ]
    }
   ],
   "source": [
    "d={5:[(7,1),(3,2)],7:[(5,1) ,(4,2),(3,8)],4:[(7,2),(8,9),(2,7)],8:[(3,4),(4,9),(2,6)],3:[(5,3),(7,8),(8,4)],2:[(4,7),(8,6)]}\n",
    "def dj(d,start):\n",
    "    visi=set()\n",
    "    dis={node:float('inf')for node in d}\n",
    "    dis[start]=0\n",
    "    queue=[(0,start)]\n",
    "    while queue:\n",
    "        c,node=min(queue)\n",
    "        queue.remove((c,node))\n",
    "        if node not in visi:\n",
    "            print(node)\n",
    "            visi.add(node)\n",
    "            if node in d:\n",
    "                for nei,wt in d[node]:\n",
    "                    if dis[node]+wt<dis[nei]:\n",
    "                        dis[nei]=dis[node]+wt\n",
    "                        queue.append((dis[nei],nei))\n",
    "    return dis\n",
    "\n",
    "print(dj(d,5))\n"
   ]
  },
  {
   "cell_type": "code",
   "execution_count": 54,
   "id": "35f253bb-7506-4ec0-8901-8f7951312888",
   "metadata": {},
   "outputs": [
    {
     "name": "stdout",
     "output_type": "stream",
     "text": [
      "5\n",
      "7\n",
      "3\n",
      "4\n",
      "8\n",
      "2\n"
     ]
    },
    {
     "data": {
      "text/plain": [
       "{5: 0, 7: 1, 4: 3, 8: 6, 3: 2, 2: 10}"
      ]
     },
     "execution_count": 54,
     "metadata": {},
     "output_type": "execute_result"
    }
   ],
   "source": [
    "d={5:[(7,1),(3,2)],7:[(5,1) ,(4,2),(3,8)],4:[(7,2),(8,9),(2,7)],8:[(3,4),(4,9),(2,6)],3:[(5,3),(7,8),(8,4)],2:[(4,7),(8,6)]}\n",
    "\n",
    "def dj(d,start):\n",
    "    visi=set()\n",
    "    dis={node:float('inf') for node in d}\n",
    "    dis[start]=0\n",
    "    queue=[(0,start)]\n",
    "    while queue:\n",
    "        c,node=min(queue)\n",
    "        queue.remove((c,node))\n",
    "        if node not in visi:\n",
    "            visi.add(node)\n",
    "            print(node)\n",
    "            if node in d:\n",
    "                for nei,wt in d[node]:\n",
    "                    if dis[node]+wt<dis[nei]:\n",
    "                        dis[nei]=dis[node]+wt\n",
    "                        queue.append((dis[nei],nei))\n",
    "    return dis\n",
    "dj(d,5)"
   ]
  },
  {
   "cell_type": "code",
   "execution_count": null,
   "id": "2991c3ca-9a97-4c7d-a48c-d0dad95371ca",
   "metadata": {},
   "outputs": [],
   "source": []
  },
  {
   "cell_type": "code",
   "execution_count": null,
   "id": "c5616068-e954-4c4f-8445-9a23620a77d2",
   "metadata": {},
   "outputs": [],
   "source": []
  },
  {
   "cell_type": "code",
   "execution_count": null,
   "id": "7dc35eb7-4f28-4c09-9a67-9ef8030b4af8",
   "metadata": {},
   "outputs": [],
   "source": [
    "\n",
    "#two lists will be given from list1 take even numbers  and add that with odd numbers in list2  and storre them in res list like that do it for everu even number in lst1\n",
    "\n",
    "6 3 2 9 4 7\n",
    "8 7 5 3 6 9\n",
    "output is \n",
    "13 11 9 15 9 7 5 11 11 9 7 13"
   ]
  },
  {
   "cell_type": "code",
   "execution_count": 71,
   "id": "46231b45-0e52-460a-91c3-abd0be7140ca",
   "metadata": {},
   "outputs": [
    {
     "name": "stdout",
     "output_type": "stream",
     "text": [
      "[13, 11, 9, 15, 9, 7, 5, 11, 11, 9, 7, 13]\n"
     ]
    }
   ],
   "source": [
    "def fun(lst1, lst2):\n",
    "    res=[] \n",
    "    if not lst1:\n",
    "        return res\n",
    "    ev=lst1[0]\n",
    "    for i in lst2:\n",
    "        if ev%2==0 and i%2!=0:\n",
    "            res.append(ev+i)\n",
    "    return res+fun(lst1[1:],lst2)\n",
    "lst1=[6,3,2,9,4,7]\n",
    "lst2=[8,7,5,3,6,9]\n",
    "print(fun(list1, list2))"
   ]
  },
  {
   "cell_type": "code",
   "execution_count": null,
   "id": "51d7ff56-cbe1-4038-a16b-6f37d701c58e",
   "metadata": {},
   "outputs": [],
   "source": []
  },
  {
   "cell_type": "code",
   "execution_count": 87,
   "id": "6485a361-7ed5-4ebb-bff0-9a4953ce378c",
   "metadata": {},
   "outputs": [
    {
     "name": "stdout",
     "output_type": "stream",
     "text": [
      "[13, 11, 9, 15, 9, 7, 5, 11, 11, 9, 7, 13]\n"
     ]
    }
   ],
   "source": [
    "def fun(lst1,lst2):\n",
    "    res=[]  \n",
    "    if not lst1 or not lst2:\n",
    "        return []\n",
    "    i=0\n",
    "    j=0\n",
    "    while i<len(lst1):\n",
    "        if lst1[i]%2==0 and lst2[j]%2!=0:\n",
    "            res.append(lst1[i]+lst2[j])\n",
    "        j+=1\n",
    "        if j==len(lst2):\n",
    "            j=0\n",
    "            i+=1\n",
    "    return res\n",
    "lst1=[6,3,2,9,4,7]\n",
    "lst2=[8,7,5,3,6,9]\n",
    "print(fun(list1, list2))"
   ]
  },
  {
   "cell_type": "code",
   "execution_count": 13,
   "id": "de8322af-549d-4eb0-a22f-40a06b5c9ee0",
   "metadata": {},
   "outputs": [
    {
     "name": "stdout",
     "output_type": "stream",
     "text": [
      "[13, 11, 9, 15, 9, 7, 5, 11, 11, 9, 7, 13]\n"
     ]
    }
   ],
   "source": [
    "\n",
    "lst1=[6,3,2,9,4,7]\n",
    "lst2=[8,7,5,3,6,9]\n",
    "res=[]\n",
    "\n",
    "for i in lst1:\n",
    "    for j in lst2:\n",
    "        if i%2==0 and j%2!=0:\n",
    "            res.append(i+j)\n",
    "print(res)\n"
   ]
  },
  {
   "cell_type": "code",
   "execution_count": 35,
   "id": "b7380ef4-cc39-4dcd-9e28-83410d42217f",
   "metadata": {},
   "outputs": [
    {
     "name": "stdout",
     "output_type": "stream",
     "text": [
      "[13, 11, 9, 15, 9, 7, 5, 11, 11, 9, 7, 13]\n"
     ]
    }
   ],
   "source": [
    "def fun(lst1,lst2,i=0,j=0,res=[]):\n",
    "    if not lst1:\n",
    "        return []\n",
    "    if i>=len(lst1):\n",
    "        # print(x)\n",
    "        return res\n",
    "    if j>=len(lst2):\n",
    "        return fun(lst1,lst2,i+1,0,res)\n",
    "    if lst1[i]%2==0 and lst2[j]%2!=0:\n",
    "        res.append(lst1[i]+lst2[j])\n",
    "    return fun(lst1,lst2,i,j+1,res)\n",
    "lst1=[6,3,2,9,4,7]\n",
    "lst2=[8,7,5,3,6,9]\n",
    "print(fun(lst1,lst2))"
   ]
  },
  {
   "cell_type": "code",
   "execution_count": 40,
   "id": "eb6b1bcf-cadc-4946-9e9d-8ec7d6746b80",
   "metadata": {},
   "outputs": [
    {
     "name": "stdout",
     "output_type": "stream",
     "text": [
      "[48, 48, 80, 80, 120, 120]\n",
      "[13, 11, 9, 15, 9, 7, 5, 11, 11, 9, 7, 13]\n"
     ]
    }
   ],
   "source": [
    "def fun(lst1,lst2,i=0,j=0,res=[],x=[]):\n",
    "    if not lst1:\n",
    "        return []\n",
    "    if i>=len(lst1):\n",
    "        print(x)\n",
    "        return res\n",
    "    if j>=len(lst2):\n",
    "        x.append(sum(res))\n",
    "        return fun(lst1,lst2,i+1,0,res,x)\n",
    "    if lst1[i]%2==0 and lst2[j]%2!=0:\n",
    "        res.append(lst1[i]+lst2[j])\n",
    "    return fun(lst1,lst2,i,j+1,res,x)\n",
    "lst1=[6,3,2,9,4,7]\n",
    "lst2=[8,7,5,3,6,9]\n",
    "print(fun(lst1,lst2))"
   ]
  },
  {
   "cell_type": "code",
   "execution_count": 38,
   "id": "a875707f-6f6a-449b-b6fe-00a5a11d7fa5",
   "metadata": {},
   "outputs": [
    {
     "name": "stdout",
     "output_type": "stream",
     "text": [
      "[48, 0, 32, 0, 40, 0]\n"
     ]
    }
   ],
   "source": [
    "def fun(lst1,lst2):\n",
    "    def fun2(lst1,lst2,i,j,x,res=[]):\n",
    "        if i>=len(lst1):\n",
    "            return res\n",
    "        if j>=len(lst2):\n",
    "            res.append(x)\n",
    "            return fun2(lst1,lst2,i+1,0,0,res)\n",
    "        if lst1[i]%2==0 and lst2[j]%2!=0:\n",
    "            x=x+lst1[i]+lst2[j]\n",
    "        \n",
    "        return fun2(lst1,lst2,i,j+1,x,res)\n",
    "\n",
    "    return fun2(lst1,lst2,0,0,0)\n",
    "lst1=[6,3,2,9,4,7]\n",
    "lst2=[8,7,5,3,6,9]\n",
    "print(fun(lst1,lst2))"
   ]
  },
  {
   "cell_type": "code",
   "execution_count": null,
   "id": "9529b6d9-2c02-4680-9776-6f057c3feefe",
   "metadata": {},
   "outputs": [],
   "source": []
  },
  {
   "cell_type": "code",
   "execution_count": null,
   "id": "3e5798e2-c8b4-4256-a599-e1bd949669a8",
   "metadata": {},
   "outputs": [],
   "source": []
  },
  {
   "cell_type": "code",
   "execution_count": null,
   "id": "375b5fc3-b5b0-4fb2-bff7-3d5aa8981130",
   "metadata": {},
   "outputs": [],
   "source": []
  },
  {
   "cell_type": "code",
   "execution_count": null,
   "id": "903fe413-5cc7-405a-b31a-9d4659fbc329",
   "metadata": {},
   "outputs": [],
   "source": []
  },
  {
   "cell_type": "code",
   "execution_count": null,
   "id": "5aeae007-d478-42d9-906d-f58c5d0eff23",
   "metadata": {},
   "outputs": [],
   "source": []
  },
  {
   "cell_type": "code",
   "execution_count": null,
   "id": "0913c56e-039f-4498-b8cc-5c287bae3e51",
   "metadata": {},
   "outputs": [],
   "source": []
  },
  {
   "cell_type": "code",
   "execution_count": null,
   "id": "0acebf6d-d35f-49c9-8a3f-d328e5970d3a",
   "metadata": {},
   "outputs": [],
   "source": []
  },
  {
   "cell_type": "code",
   "execution_count": null,
   "id": "ee329e5a-55e7-4cd1-8c45-9ef0dad79585",
   "metadata": {},
   "outputs": [],
   "source": []
  },
  {
   "cell_type": "code",
   "execution_count": null,
   "id": "ddf253b0-ec5f-45b7-9236-8ccd0f0377c9",
   "metadata": {},
   "outputs": [],
   "source": []
  },
  {
   "cell_type": "code",
   "execution_count": null,
   "id": "7f872b1a-d654-4b57-b49d-849c669f61b4",
   "metadata": {},
   "outputs": [],
   "source": []
  },
  {
   "cell_type": "code",
   "execution_count": null,
   "id": "9354337d-5279-4007-bd58-67a0c81a1313",
   "metadata": {},
   "outputs": [],
   "source": []
  },
  {
   "cell_type": "code",
   "execution_count": null,
   "id": "fc65bf3b-08cf-4ebd-b035-4ca9aed7b9d3",
   "metadata": {},
   "outputs": [],
   "source": []
  },
  {
   "cell_type": "code",
   "execution_count": null,
   "id": "e9614645-9a69-4612-abe2-c6075b476160",
   "metadata": {},
   "outputs": [],
   "source": []
  },
  {
   "cell_type": "code",
   "execution_count": null,
   "id": "aec27194-0d17-46f5-953d-f2b0cd22d3f4",
   "metadata": {},
   "outputs": [],
   "source": []
  },
  {
   "cell_type": "code",
   "execution_count": null,
   "id": "5de7d699-0502-470e-8238-48ac19a00cb4",
   "metadata": {},
   "outputs": [],
   "source": []
  }
 ],
 "metadata": {
  "kernelspec": {
   "display_name": "Python 3 (ipykernel)",
   "language": "python",
   "name": "python3"
  },
  "language_info": {
   "codemirror_mode": {
    "name": "ipython",
    "version": 3
   },
   "file_extension": ".py",
   "mimetype": "text/x-python",
   "name": "python",
   "nbconvert_exporter": "python",
   "pygments_lexer": "ipython3",
   "version": "3.12.1"
  }
 },
 "nbformat": 4,
 "nbformat_minor": 5
}
