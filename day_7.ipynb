{
 "cells": [
  {
   "cell_type": "raw",
   "id": "ba3bc2b1-edd0-40c9-aeb4-5413529d10cc",
   "metadata": {},
   "source": [
    "Basics of Trees in Data Structures\n",
    "A tree is a hierarchical data structure consisting of nodes, with a single node as the root. Each node has zero or more child nodes, and no two nodes have the same parent. Trees are widely used in various domains such as file systems, databases, and network structures.\n",
    "\n",
    "Key Terms\n",
    "\n",
    "Node: The fundamental part of a tree that contains a value or data.\n",
    "\n",
    "Root: The top node in a tree. There is only one root node in a tree.\n",
    "\n",
    "Parent: A node that has one or more children.\n",
    "\n",
    "Child: A node directly connected to another node when moving away from the root.\n",
    "\n",
    "Leaf: A node with no children.\n",
    "\n",
    "Edge: The connection between one node and another.\n",
    "\n",
    "Subtree: A tree formed by a node and its descendants.\n",
    "\n",
    "Height: The length of the longest path from the root to a leaf.\n",
    "\n",
    "Depth: The length of the path from the root to a node.\n",
    "\n",
    "Types of Trees\n",
    "\n",
    "Binary Tree: Each node has at most two children.\n",
    "\n",
    "Binary Search Tree (BST): A binary tree where the left child has a lesser value, and the right child has a greater value than its parent node.\n",
    "\n",
    "Balanced Tree: A tree where the height of the left and right subtrees of any node differ by at most one.\n",
    "\n",
    "AVL Tree: A self-balancing binary search tree where the difference between heights of left and right subtrees is at most one for all nodes.\n",
    "\n",
    "Red-Black Tree: A self-balancing binary search tree with an extra bit of storage per node (its color: red or black) to ensure the tree remains balanced \n",
    "\n",
    "during insertions and deletions.\n",
    "\n",
    "Basic Tree Operations\n",
    "\n",
    "Insertion: Adding a node to the tree.\n",
    "\n",
    "Deletion: Removing a node from the tree.\n",
    "\n",
    "Traversal: Visiting all the nodes in some order (e.g., in-order, pre-order, post-order).\n"
   ]
  },
  {
   "cell_type": "code",
   "execution_count": null,
   "id": "eb1b1a72-e30a-4a02-bdbc-be34a8ac5f80",
   "metadata": {},
   "outputs": [],
   "source": []
  },
  {
   "cell_type": "code",
   "execution_count": null,
   "id": "59f9a27d-1fc1-41f4-ace1-fc1058fd023f",
   "metadata": {},
   "outputs": [],
   "source": []
  },
  {
   "cell_type": "code",
   "execution_count": 1,
   "id": "7d88eb5c-99ef-425a-b6f8-594841cc6423",
   "metadata": {},
   "outputs": [],
   "source": [
    "class Node:\n",
    "    def __init__(self, key):\n",
    "        self.left = None\n",
    "        self.right = None\n",
    "        self.val = key\n",
    "\n",
    "# Create root\n",
    "root = Node(1)\n",
    "# Following is the tree after above statement\n",
    "#     1\n",
    "#    / \\\n",
    "#  None None\n",
    "\n",
    "root.left = Node(2)\n",
    "root.right = Node(3)\n",
    "\n",
    "#     1\n",
    "#    / \\\n",
    "#   2   3\n",
    "#  / \\ / \\\n",
    "# None None None None\n",
    "\n",
    "root.left.left = Node(4)\n"
   ]
  },
  {
   "cell_type": "code",
   "execution_count": 2,
   "id": "96f7ef71-2acf-42fb-8411-9b936ad97d30",
   "metadata": {},
   "outputs": [
    {
     "name": "stdout",
     "output_type": "stream",
     "text": [
      "In-order traversal: \n",
      "4 2 1 3 \n",
      "Pre-order traversal: \n",
      "1 2 4 3 \n",
      "Post-order traversal: \n",
      "4 2 3 1 "
     ]
    }
   ],
   "source": [
    "# In-order traversal\n",
    "def inorder(root):\n",
    "    if root:\n",
    "        inorder(root.left)\n",
    "        print(root.val, end=\" \")\n",
    "        inorder(root.right)\n",
    "\n",
    "# Pre-order traversal\n",
    "def preorder(root):\n",
    "    if root:\n",
    "        print(root.val, end=\" \")\n",
    "        preorder(root.left)\n",
    "        preorder(root.right)\n",
    "\n",
    "# Post-order traversal\n",
    "def postorder(root):\n",
    "    if root:\n",
    "        postorder(root.left)\n",
    "        postorder(root.right)\n",
    "        print(root.val, end=\" \")\n",
    "\n",
    "# Example usage:\n",
    "print(\"In-order traversal: \")\n",
    "inorder(root)\n",
    "print(\"\\nPre-order traversal: \")\n",
    "preorder(root)\n",
    "print(\"\\nPost-order traversal: \")\n",
    "postorder(root)\n"
   ]
  },
  {
   "cell_type": "code",
   "execution_count": 3,
   "id": "b0b2a9e8-4c5e-4a98-95d2-1a914d9b7c2f",
   "metadata": {},
   "outputs": [],
   "source": [
    "class BSTNode:\n",
    "    def __init__(self, key):\n",
    "        self.left = None\n",
    "        self.right = None\n",
    "        self.val = key\n",
    "\n",
    "def insert(root, key):\n",
    "    if root is None:\n",
    "        return BSTNode(key)\n",
    "    else:\n",
    "        if root.val < key:\n",
    "            root.right = insert(root.right, key)\n",
    "        else:\n",
    "            root.left = insert(root.left, key)\n",
    "    return root\n",
    "\n",
    "root = BSTNode(50)\n",
    "root = insert(root, 30)\n",
    "root = insert(root, 20)\n",
    "root = insert(root, 40)\n",
    "root = insert(root, 70)\n",
    "root = insert(root, 60)\n",
    "root = insert(root, 80)\n"
   ]
  },
  {
   "cell_type": "code",
   "execution_count": 4,
   "id": "4543d7ac-cb61-4d97-878b-4f656bd75689",
   "metadata": {},
   "outputs": [
    {
     "name": "stdout",
     "output_type": "stream",
     "text": [
      "Found: 40\n"
     ]
    }
   ],
   "source": [
    "def search(root, key):\n",
    "    if root is None or root.val == key:\n",
    "        return root\n",
    "    if root.val < key:\n",
    "        return search(root.right, key)\n",
    "    return search(root.left, key)\n",
    "\n",
    "# Example usage:\n",
    "result = search(root, 40)\n",
    "if result:\n",
    "    print(\"Found:\", result.val)\n",
    "else:\n",
    "    print(\"Not found\")\n"
   ]
  },
  {
   "cell_type": "code",
   "execution_count": 5,
   "id": "f6ef834c-b762-437f-9748-21dd08ed41c7",
   "metadata": {},
   "outputs": [
    {
     "name": "stdout",
     "output_type": "stream",
     "text": [
      "In-order traversal after deletion: \n",
      "30 40 50 60 70 80 "
     ]
    }
   ],
   "source": [
    "def minValueNode(node):\n",
    "    current = node\n",
    "    while current.left is not None:\n",
    "        current = current.left\n",
    "    return current\n",
    "\n",
    "def deleteNode(root, key):\n",
    "    if root is None:\n",
    "        return root\n",
    "\n",
    "    if key < root.val:\n",
    "        root.left = deleteNode(root.left, key)\n",
    "    elif key > root.val:\n",
    "        root.right = deleteNode(root.right, key)\n",
    "    else:\n",
    "        if root.left is None:\n",
    "            return root.right\n",
    "        elif root.right is None:\n",
    "            return root.left\n",
    "        temp = minValueNode(root.right)\n",
    "        root.val = temp.val\n",
    "        root.right = deleteNode(root.right, temp.val)\n",
    "    return root\n",
    "\n",
    "# Example usage:\n",
    "root = deleteNode(root, 20)\n",
    "print(\"In-order traversal after deletion: \")\n",
    "inorder(root)\n"
   ]
  },
  {
   "cell_type": "code",
   "execution_count": null,
   "id": "d15a10fa-47de-425c-8d4f-0bf3b1789b83",
   "metadata": {},
   "outputs": [],
   "source": []
  },
  {
   "cell_type": "code",
   "execution_count": 13,
   "id": "ad33793b-4efb-4b26-8777-f85fb6301b85",
   "metadata": {},
   "outputs": [
    {
     "name": "stdin",
     "output_type": "stream",
     "text": [
      " 1 2 3 4 5 6 7\n"
     ]
    },
    {
     "name": "stdout",
     "output_type": "stream",
     "text": [
      "(1, 2, 3)\n",
      "(1, 2, 4)\n",
      "(1, 2, 5)\n",
      "(1, 2, 6)\n",
      "(1, 2, 7)\n",
      "(1, 3, 4)\n",
      "(1, 3, 5)\n",
      "(1, 3, 6)\n",
      "(1, 3, 7)\n",
      "(1, 4, 5)\n",
      "(1, 4, 6)\n",
      "(1, 4, 7)\n",
      "(1, 5, 6)\n",
      "(1, 5, 7)\n",
      "(1, 6, 7)\n",
      "(2, 3, 4)\n",
      "(2, 3, 5)\n",
      "(2, 3, 6)\n",
      "(2, 3, 7)\n",
      "(2, 4, 5)\n",
      "(2, 4, 6)\n",
      "(2, 4, 7)\n",
      "(2, 5, 6)\n",
      "(2, 5, 7)\n",
      "(2, 6, 7)\n",
      "(3, 4, 5)\n",
      "(3, 4, 6)\n",
      "(3, 4, 7)\n",
      "(3, 5, 6)\n",
      "(3, 5, 7)\n",
      "(3, 6, 7)\n",
      "(4, 5, 6)\n",
      "(4, 5, 7)\n",
      "(4, 6, 7)\n",
      "(5, 6, 7)\n"
     ]
    }
   ],
   "source": [
    "from itertools import combinations\n",
    "def fun(arr,n):\n",
    "    comb=combinations(arr,n)\n",
    "    for i in comb:\n",
    "        print(i)\n",
    "arr=list(map(int,input().split()))\n",
    "fun(arr,3)"
   ]
  },
  {
   "cell_type": "code",
   "execution_count": 9,
   "id": "44db4228-dac0-4f0f-b42c-508c4a75fafa",
   "metadata": {},
   "outputs": [
    {
     "name": "stdin",
     "output_type": "stream",
     "text": [
      " 3 2 5 4 1 6 8\n"
     ]
    },
    {
     "name": "stdout",
     "output_type": "stream",
     "text": [
      "[3, 2, 5]\n",
      "[3, 2, 4]\n",
      "[3, 2, 1]\n",
      "[3, 2, 6]\n",
      "[3, 2, 8]\n",
      "[3, 5, 4]\n",
      "[3, 5, 1]\n",
      "[3, 5, 6]\n",
      "[3, 5, 8]\n",
      "[3, 4, 1]\n",
      "[3, 4, 6]\n",
      "[3, 4, 8]\n",
      "[3, 1, 6]\n",
      "[3, 1, 8]\n",
      "[3, 6, 8]\n",
      "[2, 5, 4]\n",
      "[2, 5, 1]\n",
      "[2, 5, 6]\n",
      "[2, 5, 8]\n",
      "[2, 4, 1]\n",
      "[2, 4, 6]\n",
      "[2, 4, 8]\n",
      "[2, 1, 6]\n",
      "[2, 1, 8]\n",
      "[2, 6, 8]\n",
      "[5, 4, 1]\n",
      "[5, 4, 6]\n",
      "[5, 4, 8]\n",
      "[5, 1, 6]\n",
      "[5, 1, 8]\n",
      "[5, 6, 8]\n",
      "[4, 1, 6]\n",
      "[4, 1, 8]\n",
      "[4, 6, 8]\n",
      "[1, 6, 8]\n"
     ]
    }
   ],
   "source": [
    "def gen_comb(arr,n):\n",
    "    def combin(comb,start):\n",
    "        if len(comb)==n:\n",
    "            print(comb)\n",
    "            return\n",
    "        for i in range(start,len(arr)):\n",
    "            comb.append(arr[i])\n",
    "            combin(comb,i+1)\n",
    "            comb.pop()\n",
    "    combin([], 0)\n",
    "arr=list(map(int,input().split()))\n",
    "gen_comb(arr,3)"
   ]
  },
  {
   "cell_type": "code",
   "execution_count": 6,
   "id": "23132ac5-9d1c-4340-9bf1-188178942956",
   "metadata": {},
   "outputs": [
    {
     "name": "stdin",
     "output_type": "stream",
     "text": [
      "  1 2 3 4 5 6 \n"
     ]
    },
    {
     "data": {
      "text/plain": [
       "[[1, 2, 3],\n",
       " [1, 2, 4],\n",
       " [1, 2, 5],\n",
       " [1, 2, 6],\n",
       " [1, 3, 4],\n",
       " [1, 3, 5],\n",
       " [1, 3, 6],\n",
       " [1, 4, 5],\n",
       " [1, 4, 6],\n",
       " [1, 5, 6],\n",
       " [2, 3, 4],\n",
       " [2, 3, 5],\n",
       " [2, 3, 6],\n",
       " [2, 4, 5],\n",
       " [2, 4, 6],\n",
       " [2, 5, 6],\n",
       " [3, 4, 5],\n",
       " [3, 4, 6],\n",
       " [3, 5, 6],\n",
       " [4, 5, 6]]"
      ]
     },
     "execution_count": 6,
     "metadata": {},
     "output_type": "execute_result"
    }
   ],
   "source": [
    "def gen_combi(arr,n):\n",
    "    res=[]\n",
    "    def recur(lst,start):\n",
    "        if len(lst)==n:\n",
    "            res.append(lst[:])\n",
    "            return\n",
    "        for i in range(start,len(arr)):\n",
    "            lst.append(arr[i])\n",
    "            recur(lst,i+1)\n",
    "            lst.pop()\n",
    "            \n",
    "    recur([],0)\n",
    "    return res\n",
    "arr=list(map(int,input().split()))\n",
    "gen_combi(arr,3)\n"
   ]
  },
  {
   "cell_type": "code",
   "execution_count": 12,
   "id": "5eb3b61f-1c17-4dea-a900-1c1867be9e99",
   "metadata": {},
   "outputs": [
    {
     "name": "stdin",
     "output_type": "stream",
     "text": [
      " 1 2 3 4 5 6 \n"
     ]
    },
    {
     "name": "stdout",
     "output_type": "stream",
     "text": [
      "[1, 2, 3]\n",
      "[1, 2, 4]\n",
      "[1, 2, 5]\n",
      "[1, 2, 6]\n",
      "[1, 3, 4]\n",
      "[1, 3, 5]\n",
      "[1, 3, 6]\n",
      "[1, 4, 5]\n",
      "[1, 4, 6]\n",
      "[1, 5, 6]\n",
      "[2, 3, 4]\n",
      "[2, 3, 5]\n",
      "[2, 3, 6]\n",
      "[2, 4, 5]\n",
      "[2, 4, 6]\n",
      "[2, 5, 6]\n",
      "[3, 4, 5]\n",
      "[3, 4, 6]\n",
      "[3, 5, 6]\n",
      "[4, 5, 6]\n"
     ]
    }
   ],
   "source": [
    "def gen_par(arr,n):\n",
    "    lst=[]\n",
    "    def recur(lst,start):\n",
    "        if len(lst)==n:\n",
    "            print(lst)\n",
    "            return \n",
    "        for i in range(start,len(arr)):\n",
    "            fun(lst+[arr[i]],i+1)\n",
    "    recur(lst,0)\n",
    "    return lst\n",
    "arr=list(map(int,input().split()))\n",
    "gen_comb(arr,3)"
   ]
  },
  {
   "cell_type": "code",
   "execution_count": 9,
   "id": "66691e6a-4c6d-4986-8ccb-2229c2f9fc73",
   "metadata": {},
   "outputs": [
    {
     "name": "stdout",
     "output_type": "stream",
     "text": [
      "hoolsc\n",
      "oolsch\n",
      "chools\n",
      "hoc\n",
      "['sch', 'cho', 'hoo', 'ool']\n",
      "True\n"
     ]
    }
   ],
   "source": [
    "def rot_left(s,n):\n",
    "    return s[n:]+s[:n]\n",
    "def rot_right(s,n):\n",
    "    return s[-n:]+s[:-n]\n",
    "def ana(s,t):\n",
    "    return sorted(s)==sorted(t)\n",
    "s=\"school\"\n",
    "q=[(\"L\",2),(\"R\",3),(\"L\",1)]\n",
    "# q=[]\n",
    "# for i in range(3):\n",
    "#     a,num=input().split()\n",
    "#     q.append((a,int(num)))\n",
    "lst=[]\n",
    "curr=s\n",
    "for d, num in q:\n",
    "    if d==\"L\":\n",
    "        curr=s\n",
    "        curr=rot_left(curr,num)\n",
    "        print(curr)\n",
    "    elif d==\"R\":\n",
    "        curr=s\n",
    "        curr=rot_right(curr,num)\n",
    "        print(curr)\n",
    "    lst.append(curr)\n",
    "    \n",
    "f_l=''.join([i[0] for i in lst])\n",
    "print(f_l)\n",
    "substrs=[s[i:i+3] for i in range(len(s)-2)]\n",
    "print(substrs)\n",
    "res=any(ana(f_l,j) for j in substrs)\n",
    "print(res)\n"
   ]
  },
  {
   "cell_type": "code",
   "execution_count": null,
   "id": "5009448f-5145-472d-94cb-7e98b982ec0e",
   "metadata": {},
   "outputs": [],
   "source": []
  },
  {
   "cell_type": "code",
   "execution_count": 6,
   "id": "f37dbdef-b146-4b63-8217-91afa0ac9d0f",
   "metadata": {},
   "outputs": [],
   "source": [
    "def is_prime(num, i=2):\n",
    "    if num<=2:\n",
    "        return num==2\n",
    "    if num%i==0:\n",
    "        return False\n",
    "    if i*i>num:\n",
    "        return True\n",
    "    return is_prime(num,i+1)"
   ]
  },
  {
   "cell_type": "code",
   "execution_count": null,
   "id": "c8c508c9-df1c-47c0-89f6-f55fa4d0ec03",
   "metadata": {},
   "outputs": [],
   "source": []
  },
  {
   "cell_type": "code",
   "execution_count": 13,
   "id": "28bf2212-0ebf-4b78-b86d-d8490fce8c7f",
   "metadata": {},
   "outputs": [
    {
     "name": "stdin",
     "output_type": "stream",
     "text": [
      " 12\n"
     ]
    },
    {
     "name": "stdout",
     "output_type": "stream",
     "text": [
      "(5, 7)\n"
     ]
    }
   ],
   "source": [
    "def prim_pair(n,i=1):\n",
    "    def nxt_one(j):\n",
    "        if j==n+1:\n",
    "            return None\n",
    "        if is_prime(i) and is_prime(j) and i+j==n:\n",
    "            return i,j\n",
    "        return nxt_one(j+1)\n",
    "    pair=nxt_one(i)\n",
    "    if pair:\n",
    "        return pair\n",
    "    return prim_pair(n,i+1)\n",
    "n=int(input())\n",
    "res=prim_pair(n)\n",
    "if res:\n",
    "    print(res)\n",
    "else:\n",
    "    print(\"not there\")"
   ]
  },
  {
   "cell_type": "code",
   "execution_count": null,
   "id": "034194d6-733a-4a02-ba92-dd0a69b8e60e",
   "metadata": {},
   "outputs": [],
   "source": []
  },
  {
   "cell_type": "code",
   "execution_count": null,
   "id": "34476877-9290-4849-ace9-8317d48dc996",
   "metadata": {},
   "outputs": [],
   "source": []
  },
  {
   "cell_type": "code",
   "execution_count": 34,
   "id": "73d96fe7-8e29-45d9-b65b-bf92795c5137",
   "metadata": {},
   "outputs": [
    {
     "name": "stdout",
     "output_type": "stream",
     "text": [
      "bbddca\n"
     ]
    }
   ],
   "source": [
    "a=\"polikujmnhytgbvfredcxswqaz\"\n",
    "k=\"abbcdd\"\n",
    "s=''\n",
    "for i in a:\n",
    "    for j in k:\n",
    "        if i==j:\n",
    "            s+=i\n",
    "print(s)\n"
   ]
  },
  {
   "cell_type": "code",
   "execution_count": 35,
   "id": "c7a7aec9-e408-42b3-b5ec-955e5e914d49",
   "metadata": {},
   "outputs": [
    {
     "name": "stdout",
     "output_type": "stream",
     "text": [
      "bbddca\n"
     ]
    }
   ],
   "source": [
    "a=\"polikujmnhytgbvfredcxswqaz\"\n",
    "k=\"abbcdd\"\n",
    "d={}\n",
    "for i in k:\n",
    "    if i in d:\n",
    "        d[i]+=1\n",
    "    else:\n",
    "        d[i]=1\n",
    "s=''\n",
    "for i in a:\n",
    "    if i in d:\n",
    "        s+=i*d[i]\n",
    "print(s)\n"
   ]
  },
  {
   "cell_type": "code",
   "execution_count": 37,
   "id": "90338d2d-50ba-4d9d-a0fc-fc72c4808c13",
   "metadata": {},
   "outputs": [
    {
     "name": "stdout",
     "output_type": "stream",
     "text": [
      "30\n"
     ]
    }
   ],
   "source": [
    "def max_gold(arr):\n",
    "    n=len(arr)\n",
    "    if n==0:\n",
    "        return 0\n",
    "    if n==1:\n",
    "        return arr[0]    \n",
    "    prev2=arr[0]\n",
    "    prev1=max(arr[0],arr[1])    \n",
    "    for i in range(2,n):\n",
    "        curr=max(arr[i]+prev2,prev1)\n",
    "        prev2,prev1=prev1, curr\n",
    "    return prev1\n",
    "arr = [13, 9, 4, 10, 5, 7]\n",
    "print(max_gold(arr)) "
   ]
  },
  {
   "cell_type": "code",
   "execution_count": 43,
   "id": "7b8a33bc-7fe1-4f2f-baf2-71d31e44fc4d",
   "metadata": {},
   "outputs": [
    {
     "name": "stdout",
     "output_type": "stream",
     "text": [
      "30\n"
     ]
    }
   ],
   "source": [
    "def mx_gold(arr):\n",
    "    d={}\n",
    "    def recur(i,d):\n",
    "        if i<0:\n",
    "            return 0\n",
    "        if i==0:\n",
    "            return arr[0]\n",
    "        if i in d:\n",
    "            return d[i]\n",
    "        rob=arr[i]+recur(i-2,d)\n",
    "        skp=recur(i-1,d)\n",
    "        d[i]=max(rob,skp)\n",
    "        return d[i]\n",
    "    \n",
    "    return recur(len(arr)-1,d)\n",
    "arr=[13,9,4,10,5,7]\n",
    "print(mx_gold(arr))  "
   ]
  },
  {
   "cell_type": "code",
   "execution_count": 45,
   "id": "c7b7f1bf-be2f-4c6e-bf40-a2a3c078113c",
   "metadata": {},
   "outputs": [
    {
     "ename": "TypeError",
     "evalue": "unsupported operand type(s) for +: 'int' and 'list'",
     "output_type": "error",
     "traceback": [
      "\u001b[1;31m---------------------------------------------------------------------------\u001b[0m",
      "\u001b[1;31mTypeError\u001b[0m                                 Traceback (most recent call last)",
      "Cell \u001b[1;32mIn[45], line 12\u001b[0m\n\u001b[0;32m     10\u001b[0m     \u001b[38;5;28;01mreturn\u001b[39;00m \u001b[38;5;28mmax\u001b[39m(le,ri)\n\u001b[0;32m     11\u001b[0m arr\u001b[38;5;241m=\u001b[39m[\u001b[38;5;241m13\u001b[39m,\u001b[38;5;241m9\u001b[39m,\u001b[38;5;241m4\u001b[39m,\u001b[38;5;241m10\u001b[39m,\u001b[38;5;241m5\u001b[39m,\u001b[38;5;241m7\u001b[39m]\n\u001b[1;32m---> 12\u001b[0m \u001b[43mfun\u001b[49m\u001b[43m(\u001b[49m\u001b[43marr\u001b[49m\u001b[43m)\u001b[49m\n",
      "Cell \u001b[1;32mIn[45], line 8\u001b[0m, in \u001b[0;36mfun\u001b[1;34m(arr)\u001b[0m\n\u001b[0;32m      6\u001b[0m \u001b[38;5;28;01mif\u001b[39;00m \u001b[38;5;28mlen\u001b[39m(arr)\u001b[38;5;241m==\u001b[39m\u001b[38;5;241m2\u001b[39m:\n\u001b[0;32m      7\u001b[0m     \u001b[38;5;28;01mreturn\u001b[39;00m \u001b[38;5;28mmax\u001b[39m(arr)\n\u001b[1;32m----> 8\u001b[0m le\u001b[38;5;241m=\u001b[39m\u001b[43marr\u001b[49m\u001b[43m[\u001b[49m\u001b[38;5;241;43m0\u001b[39;49m\u001b[43m]\u001b[49m\u001b[38;5;241;43m+\u001b[39;49m\u001b[43marr\u001b[49m\u001b[43m[\u001b[49m\u001b[38;5;241;43m2\u001b[39;49m\u001b[43m:\u001b[49m\u001b[43m]\u001b[49m\n\u001b[0;32m      9\u001b[0m ri\u001b[38;5;241m=\u001b[39marr[\u001b[38;5;241m1\u001b[39m]\u001b[38;5;241m+\u001b[39marr[\u001b[38;5;241m3\u001b[39m:]\n\u001b[0;32m     10\u001b[0m \u001b[38;5;28;01mreturn\u001b[39;00m \u001b[38;5;28mmax\u001b[39m(le,ri)\n",
      "\u001b[1;31mTypeError\u001b[0m: unsupported operand type(s) for +: 'int' and 'list'"
     ]
    }
   ],
   "source": [
    "def fun(arr):\n",
    "    if len(arr)==0:\n",
    "        return\n",
    "    if len(arr)==1:\n",
    "        return arr[0]\n",
    "    if len(arr)==2:\n",
    "        return max(arr)\n",
    "    le=arr[0]+arr[2:]\n",
    "    ri=arr[1]+arr[3:]\n",
    "    return max(le,ri)\n",
    "arr=[13,9,4,10,5,7]\n",
    "fun(arr)"
   ]
  },
  {
   "cell_type": "code",
   "execution_count": null,
   "id": "615c6769-7662-4f14-b94c-a84b657061ca",
   "metadata": {},
   "outputs": [],
   "source": []
  }
 ],
 "metadata": {
  "kernelspec": {
   "display_name": "Python 3 (ipykernel)",
   "language": "python",
   "name": "python3"
  },
  "language_info": {
   "codemirror_mode": {
    "name": "ipython",
    "version": 3
   },
   "file_extension": ".py",
   "mimetype": "text/x-python",
   "name": "python",
   "nbconvert_exporter": "python",
   "pygments_lexer": "ipython3",
   "version": "3.12.1"
  }
 },
 "nbformat": 4,
 "nbformat_minor": 5
}
