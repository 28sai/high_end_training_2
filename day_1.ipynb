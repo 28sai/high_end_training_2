{
 "cells": [
  {
   "cell_type": "code",
   "execution_count": 1,
   "id": "1a206a9d-7c7d-48a2-b02d-68d4e195ae12",
   "metadata": {},
   "outputs": [
    {
     "name": "stdout",
     "output_type": "stream",
     "text": [
      "[1, 2, 5, 7, 8, 9, 10, 14]\n"
     ]
    }
   ],
   "source": [
    "def merge_lsts(lst1, lst2):\n",
    "    i=0\n",
    "    j=0\n",
    "    x=[]\n",
    "    while i<len(lst1) and j<len(lst2):\n",
    "        if lst1[i]<lst2[j]:\n",
    "            x.append(lst1[i])\n",
    "            i+=1\n",
    "        else:\n",
    "            x.append(lst2[j])\n",
    "            j+=1\n",
    "    while i<len(lst1):\n",
    "        x.append(lst1[i])\n",
    "        i+=1\n",
    "    while j<len(lst2):\n",
    "        x.append(lst2[j])\n",
    "        j+=1\n",
    "    return x\n",
    "lst1=[1,5,8,9]\n",
    "lst2=[2,7,10,14]\n",
    "print(merge_lsts(lst1, lst2))\n",
    "\n"
   ]
  },
  {
   "cell_type": "code",
   "execution_count": 2,
   "id": "5d46fc94-6854-49a4-a4fb-fa670c4d6f81",
   "metadata": {},
   "outputs": [
    {
     "name": "stdout",
     "output_type": "stream",
     "text": [
      "3 - 4\n",
      "5 - 1\n",
      "4 - 2\n",
      "6 - 2\n",
      "7 - 2\n",
      "1 - 1\n",
      "2 - 1\n",
      "8 - 2\n"
     ]
    }
   ],
   "source": [
    "x=[3,5,4,3,6,7,1,2,4,3,3,7,6,8,8]\n",
    "d={}\n",
    "for i in x:\n",
    "    if i in d:\n",
    "        d[i]+=1\n",
    "    else:\n",
    "        d[i]=1\n",
    "for i, j in d.items():\n",
    "    print(i,\"-\" ,j)\n"
   ]
  },
  {
   "cell_type": "code",
   "execution_count": 3,
   "id": "f9c3a910-462e-428c-a320-e8778dee1cd1",
   "metadata": {},
   "outputs": [
    {
     "name": "stdout",
     "output_type": "stream",
     "text": [
      "a3b1a2\n"
     ]
    }
   ],
   "source": [
    "x=\"aaabaa\"\n",
    "res=\"\"\n",
    "c=1\n",
    "for i in range(1,len(x)):\n",
    "    if x[i]==x[i-1]:\n",
    "        c+=1\n",
    "    else:\n",
    "        res+=x[i-1]+str(c)\n",
    "        c=1\n",
    "res+=x[-1]+str(c)  #we can also use x[i+1] but not x[i] becoz in some cases x[i will get wrong like i fwe give last element only once then that last element wont be appended ]\n",
    "print(res) \n"
   ]
  },
  {
   "cell_type": "code",
   "execution_count": null,
   "id": "0be1129e-fc34-4ab7-adac-0b92e800c483",
   "metadata": {},
   "outputs": [],
   "source": []
  },
  {
   "cell_type": "code",
   "execution_count": 4,
   "id": "c18ab5de-415a-4496-80e7-809f32e11e91",
   "metadata": {},
   "outputs": [],
   "source": [
    "# def subset_sum(arr,target,index,path,lst):\n",
    "#     if target==0:\n",
    "#         lst.append(path)\n",
    "#     if target<0 or index>=len(arr):\n",
    "#         return\n",
    "#     subset(arr,target-arr[index],index+1,path+[arr[index]],lst)\n",
    "#     subset(arr,target,index+1,path,lst)\n",
    "# def subset(arr,target):\n",
    "#     res=[]\n",
    "#     subset_sum(arr,target,0,[],res)\n",
    "#     return res\n",
    "# x=[1,2,3,4,5]\n",
    "# print(subset(x,9))"
   ]
  },
  {
   "cell_type": "code",
   "execution_count": 5,
   "id": "0614733f-bd2f-426e-8cc0-55d97c25f660",
   "metadata": {},
   "outputs": [
    {
     "data": {
      "text/plain": [
       "2"
      ]
     },
     "execution_count": 5,
     "metadata": {},
     "output_type": "execute_result"
    }
   ],
   "source": [
    "c"
   ]
  },
  {
   "cell_type": "code",
   "execution_count": 6,
   "id": "8f4a5dde-0419-4eae-ab09-1745d0533e17",
   "metadata": {},
   "outputs": [
    {
     "name": "stdout",
     "output_type": "stream",
     "text": [
      "3\n",
      "1\n",
      "7\n",
      "5\n",
      "1\n",
      "2\n"
     ]
    }
   ],
   "source": [
    "lv=0  \n",
    "uv=0  \n",
    "lc=0  \n",
    "uc=0 \n",
    "d=0  \n",
    "sp=0 \n",
    "s=\"sajfdj4i$%cSADFDSfa\"\n",
    "vow=\"aeiou\"\n",
    "for i in s:\n",
    "    if i.islower() and i in vow:\n",
    "        lv+=1\n",
    "    elif i.isupper() and i.lower() in vow:\n",
    "        uv+=1\n",
    "    elif i.isdigit():\n",
    "        d+=1\n",
    "    elif i.islower() and i not in vow:\n",
    "        lc+=1\n",
    "    elif i.isupper() and i.lower() not in vow:\n",
    "        uc+=1\n",
    "    else:\n",
    "        sp+=1\n",
    "print(lv)\n",
    "print(uv)\n",
    "print(lc)\n",
    "print(uc)\n",
    "print(d)\n",
    "print(sp)\n"
   ]
  },
  {
   "cell_type": "code",
   "execution_count": 7,
   "id": "d22b2f14-17d6-4003-b9f8-79d2bf5101e5",
   "metadata": {},
   "outputs": [
    {
     "name": "stdout",
     "output_type": "stream",
     "text": [
      "2\n"
     ]
    }
   ],
   "source": [
    "c=0\n",
    "for i in s:\n",
    "    if not i.isalnum():\n",
    "        c+=1\n",
    "print(c)"
   ]
  },
  {
   "cell_type": "code",
   "execution_count": 8,
   "id": "1cddb105-8967-42db-be8d-6153cf878062",
   "metadata": {},
   "outputs": [
    {
     "name": "stdout",
     "output_type": "stream",
     "text": [
      "2\n"
     ]
    }
   ],
   "source": [
    "c=0\n",
    "for i in s:\n",
    "    if ord(i)>=32 and ord(i)<40:\n",
    "        c+=1\n",
    "print(c)"
   ]
  },
  {
   "cell_type": "code",
   "execution_count": null,
   "id": "6dcc200b-5bc6-488b-bf9e-5155b8b53ceb",
   "metadata": {},
   "outputs": [],
   "source": []
  },
  {
   "cell_type": "code",
   "execution_count": 9,
   "id": "aab65650-fc1d-4d98-9ddd-8024b6e5fe20",
   "metadata": {},
   "outputs": [
    {
     "name": "stdout",
     "output_type": "stream",
     "text": [
      "plAcEmEnts\n"
     ]
    }
   ],
   "source": [
    "s = \"placements\"\n",
    "res=[]\n",
    "for i in s:\n",
    "    if i in vow:\n",
    "        res.append(i.upper())\n",
    "    else:\n",
    "        res.append(i.lower())\n",
    "res=''.join(res)\n",
    "print(res)\n"
   ]
  },
  {
   "cell_type": "code",
   "execution_count": 10,
   "id": "242326ed-facf-492d-9231-8fd5d3e80a66",
   "metadata": {},
   "outputs": [
    {
     "data": {
      "text/plain": [
       "float"
      ]
     },
     "execution_count": 10,
     "metadata": {},
     "output_type": "execute_result"
    }
   ],
   "source": [
    "type(5.6)\n"
   ]
  },
  {
   "cell_type": "code",
   "execution_count": null,
   "id": "a2086397-ca1a-4a3e-a230-e86bf8c0c772",
   "metadata": {},
   "outputs": [],
   "source": []
  },
  {
   "cell_type": "code",
   "execution_count": 11,
   "id": "2cef66ee-6cfa-4d47-830b-2b51d190db78",
   "metadata": {},
   "outputs": [
    {
     "name": "stdin",
     "output_type": "stream",
     "text": [
      " 3 % 4 5.6 @ 7 8 2 4.6\n"
     ]
    },
    {
     "name": "stdout",
     "output_type": "stream",
     "text": [
      "10\n",
      "14\n",
      "10.2\n"
     ]
    }
   ],
   "source": [
    "arr=input()\n",
    "lst=arr.split()\n",
    "oi=0\n",
    "ei=0\n",
    "de=0\n",
    "for i in lst:\n",
    "    try:\n",
    "        i=int(i)\n",
    "        if i%2==0:\n",
    "            ei+=i\n",
    "        else:\n",
    "            oi+=i\n",
    "    except ValueError:\n",
    "        try:\n",
    "            i=float(i)\n",
    "            de+=i\n",
    "        except ValueError:\n",
    "            continue\n",
    "        \n",
    "    \n",
    "print(oi)\n",
    "print(ei)\n",
    "print(de)"
   ]
  },
  {
   "cell_type": "code",
   "execution_count": 12,
   "id": "0553ed51-9bde-44c2-a129-7a994e09d93b",
   "metadata": {},
   "outputs": [
    {
     "name": "stdout",
     "output_type": "stream",
     "text": [
      "14.285714285714286\n"
     ]
    }
   ],
   "source": [
    "c=0\n",
    "x=400-300\n",
    "c+=(x/7)\n",
    "  \n",
    "print(c)"
   ]
  },
  {
   "cell_type": "code",
   "execution_count": 13,
   "id": "3e152c51-ba31-49c6-b2ec-2893db829d63",
   "metadata": {},
   "outputs": [
    {
     "name": "stdout",
     "output_type": "stream",
     "text": [
      "[301, 308, 315, 322, 329, 336, 343, 350, 357, 364, 371, 378, 385, 392, 399]\n"
     ]
    }
   ],
   "source": [
    "x=[i for i in range(300,401) if i%7==0]\n",
    "print(x)"
   ]
  },
  {
   "cell_type": "code",
   "execution_count": 14,
   "id": "ab214dff-ca70-428a-8797-fb4ab136ae56",
   "metadata": {},
   "outputs": [
    {
     "name": "stdout",
     "output_type": "stream",
     "text": [
      "17\n"
     ]
    }
   ],
   "source": [
    "def is_prime(n):\n",
    "    if n<=1:\n",
    "        return False\n",
    "    for i in range(2, int(n**0.5)+1):\n",
    "        if n%i==0:\n",
    "            return False\n",
    "    return True\n",
    "n=14\n",
    "# def nxt(n):\n",
    "#     nx=n+1\n",
    "#     while True:\n",
    "#         if is_prime(nx):\n",
    "#             return nx\n",
    "#         nx+=1\n",
    "if is_prime(n):\n",
    "    print(n)\n",
    "else:\n",
    "    nx=n+1\n",
    "    while True:\n",
    "        if is_prime(nx):\n",
    "            print(nx)\n",
    "            break\n",
    "        nx+=1\n",
    "        "
   ]
  },
  {
   "cell_type": "code",
   "execution_count": 15,
   "id": "91dbe844-e604-40f8-845d-87086308e1a1",
   "metadata": {},
   "outputs": [
    {
     "name": "stdout",
     "output_type": "stream",
     "text": [
      "3\n"
     ]
    }
   ],
   "source": [
    "a=785413\n",
    "a=str(a)\n",
    "x=0\n",
    "for i in a:\n",
    "    i=int(i)\n",
    "    if is_prime(i):\n",
    "        x+=1\n",
    "print(x)"
   ]
  },
  {
   "cell_type": "code",
   "execution_count": 16,
   "id": "61f80677-38e7-4b73-9dd9-63f519933a19",
   "metadata": {},
   "outputs": [
    {
     "name": "stdout",
     "output_type": "stream",
     "text": [
      "2\n"
     ]
    }
   ],
   "source": [
    "a=7584\n",
    "c=0\n",
    "while a>0:\n",
    "    r=a%10\n",
    "    x=is_prime(r)\n",
    "    if x:\n",
    "        c+=1\n",
    "    else:\n",
    "        pass\n",
    "    a=a//10\n",
    "print(c)"
   ]
  },
  {
   "cell_type": "code",
   "execution_count": null,
   "id": "f2da1484-ae56-47f9-b613-7fb829ca9bf6",
   "metadata": {},
   "outputs": [],
   "source": []
  },
  {
   "cell_type": "code",
   "execution_count": 17,
   "id": "aaf98a61-c277-4346-9aab-52514010c1e8",
   "metadata": {},
   "outputs": [
    {
     "name": "stdout",
     "output_type": "stream",
     "text": [
      "no\n"
     ]
    }
   ],
   "source": [
    "#is prime\n",
    "n=16\n",
    "c=0\n",
    "for i in range(1,n+1):\n",
    "    if n%i==0:\n",
    "        c+=1\n",
    "if c==2:\n",
    "    print(\"prime\")\n",
    "else:\n",
    "    print(\"no\")"
   ]
  },
  {
   "cell_type": "code",
   "execution_count": 18,
   "id": "6f372944-92e4-4d89-a12c-66d94faae89e",
   "metadata": {},
   "outputs": [
    {
     "name": "stdout",
     "output_type": "stream",
     "text": [
      "no\n"
     ]
    }
   ],
   "source": [
    "#is prime\n",
    "n=16\n",
    "c=0\n",
    "for i in range(2,n):\n",
    "    if n%i==0:\n",
    "        c+=1\n",
    "if c==0:\n",
    "    print(\"prime\")\n",
    "else:\n",
    "    print(\"no\")"
   ]
  },
  {
   "cell_type": "code",
   "execution_count": 19,
   "id": "b284df7c-ac4f-4169-ae86-1e59c1ce573a",
   "metadata": {},
   "outputs": [
    {
     "name": "stdout",
     "output_type": "stream",
     "text": [
      "no\n"
     ]
    }
   ],
   "source": [
    "#is prime\n",
    "n=49\n",
    "c=0\n",
    "for i in range(2,(n//2)+1):\n",
    "    if n%i==0:\n",
    "        c+=1\n",
    "        break\n",
    "if c==0:\n",
    "    print(\"prime\")\n",
    "else:\n",
    "    print(\"no\")"
   ]
  },
  {
   "cell_type": "code",
   "execution_count": 20,
   "id": "c3549dd6-e465-4a4f-8c45-e133c408ed71",
   "metadata": {},
   "outputs": [
    {
     "name": "stdout",
     "output_type": "stream",
     "text": [
      "53\n"
     ]
    }
   ],
   "source": [
    "#is prime\n",
    "n=49\n",
    "while True:\n",
    "    c=0\n",
    "    for i in range(2,(n//2)+1):\n",
    "        if n%i==0:\n",
    "            c+=1\n",
    "            break\n",
    "    if c==0:\n",
    "        print(n)\n",
    "        break\n",
    "    else:\n",
    "        n=n+1"
   ]
  },
  {
   "cell_type": "code",
   "execution_count": 19,
   "id": "2350b51c-b186-4c21-839d-7cc7b1ff29ba",
   "metadata": {},
   "outputs": [
    {
     "name": "stdout",
     "output_type": "stream",
     "text": [
      "it need 2 chars\n"
     ]
    }
   ],
   "source": [
    "def password(pwd):\n",
    "    d=any(i.isdigit() for i in pwd)\n",
    "    up=any(i.isupper() for i in pwd)\n",
    "    lw=any(i.islower() for i in pwd)\n",
    "    sp=any(not i.isalnum() for i in pwd)\n",
    "    c=0\n",
    "    if not d:\n",
    "        c+=1\n",
    "    if not up:\n",
    "        c+=1\n",
    "    if not lw:\n",
    "        c+=1\n",
    "    if not sp:\n",
    "        c+=1\n",
    "    rem=8-len(pwd) if len(pwd)<8 else 0\n",
    "    tot=max(c,rem)\n",
    "    if tot == 0:\n",
    "        print(\"noting to add\")\n",
    "    else:\n",
    "        print(f\"it need {tot} chars\")\n",
    "x=\"abcdef227\"\n",
    "password(x)"
   ]
  },
  {
   "cell_type": "code",
   "execution_count": 1,
   "id": "9894e118-2e6a-4417-95a1-a071d8e99243",
   "metadata": {},
   "outputs": [
    {
     "name": "stdin",
     "output_type": "stream",
     "text": [
      " 2 6\n",
      " 2 3\n"
     ]
    },
    {
     "name": "stdout",
     "output_type": "stream",
     "text": [
      "1\n"
     ]
    }
   ],
   "source": [
    "x=list(map(int,input().split()))\n",
    "target_product=x[1]\n",
    "lst=list(map(int,input().split()))\n",
    "freq={}\n",
    "count=0\n",
    "for num in lst:\n",
    "    if num!=0 and target_product%num==0:\n",
    "        complement=target_product//num\n",
    "        if complement in freq:\n",
    "            count+=freq[complement]\n",
    "    if num in freq:\n",
    "        freq[num]+=1\n",
    "    else:\n",
    "        freq[num]=1\n",
    "print(count)\n",
    "\n"
   ]
  },
  {
   "cell_type": "code",
   "execution_count": null,
   "id": "5cf6cad7-4b8b-46f4-8f3b-f2701889f534",
   "metadata": {},
   "outputs": [],
   "source": []
  }
 ],
 "metadata": {
  "kernelspec": {
   "display_name": "Python 3 (ipykernel)",
   "language": "python",
   "name": "python3"
  },
  "language_info": {
   "codemirror_mode": {
    "name": "ipython",
    "version": 3
   },
   "file_extension": ".py",
   "mimetype": "text/x-python",
   "name": "python",
   "nbconvert_exporter": "python",
   "pygments_lexer": "ipython3",
   "version": "3.12.1"
  }
 },
 "nbformat": 4,
 "nbformat_minor": 5
}
