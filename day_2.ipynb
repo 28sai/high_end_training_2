{
 "cells": [
  {
   "cell_type": "code",
   "execution_count": null,
   "id": "a4c2f641-9e57-42c6-b8c9-4b9f6e6aadaf",
   "metadata": {},
   "outputs": [],
   "source": [
    "573\n"
   ]
  },
  {
   "cell_type": "code",
   "execution_count": 16,
   "id": "34d1e468-2021-4512-9fab-39c07dda177b",
   "metadata": {},
   "outputs": [],
   "source": [
    "def is_prime(num):\n",
    "    if num<=1:\n",
    "        return False\n",
    "    if num==2:\n",
    "        return True\n",
    "    if num%2==0:\n",
    "        return False\n",
    "    for i in range(3,int(num**0.5)+1,2):\n",
    "        if num%i==0:\n",
    "            return False\n",
    "    return True"
   ]
  },
  {
   "cell_type": "code",
   "execution_count": null,
   "id": "26400282-4b2b-43c3-b12d-97598d8ddbb5",
   "metadata": {},
   "outputs": [],
   "source": [
    "\n",
    "#first we add that 538 then we get 16 if we add this 2 numbers we get 7 chech whether that last number is prime or not \n",
    "    "
   ]
  },
  {
   "cell_type": "code",
   "execution_count": 36,
   "id": "a72eaf62-0905-4079-8957-1911182335f7",
   "metadata": {},
   "outputs": [
    {
     "name": "stdout",
     "output_type": "stream",
     "text": [
      "146\n"
     ]
    }
   ],
   "source": [
    "def dig(n):\n",
    "    s=0\n",
    "    while n>0:\n",
    "        r=n%10\n",
    "        s+=r\n",
    "        n//=10\n",
    "    return s\n",
    "def two_dig(n):\n",
    "    while n>=10:\n",
    "        n=dig(n)\n",
    "    return n\n",
    "def chk_prime(n):\n",
    "    while True:\n",
    "        num=two_dig(n)\n",
    "        if is_prime(num):   #or  if num is [2,3,5,7]:\n",
    "            return n\n",
    "        n+=1\n",
    "n=145\n",
    "x=chk_prime(n)\n",
    "print(x)"
   ]
  },
  {
   "cell_type": "code",
   "execution_count": null,
   "id": "9136d8aa-ac37-4125-8c77-273c29e77736",
   "metadata": {},
   "outputs": [],
   "source": [
    "# maximum recursion in python is 1000 calls"
   ]
  },
  {
   "cell_type": "code",
   "execution_count": 38,
   "id": "3314b7bb-805b-46c7-85dd-723cbeaa6fc7",
   "metadata": {},
   "outputs": [
    {
     "name": "stdout",
     "output_type": "stream",
     "text": [
      "1\n",
      "2\n",
      "3\n",
      "4\n",
      "5\n"
     ]
    }
   ],
   "source": [
    "def fun(x):\n",
    "    if x==6:\n",
    "        return 500\n",
    "    print(x)\n",
    "    fun(x+1)\n",
    "fun(1)"
   ]
  },
  {
   "cell_type": "code",
   "execution_count": 41,
   "id": "6a6ea7bf-2838-4e36-9822-2b22633514eb",
   "metadata": {},
   "outputs": [
    {
     "name": "stdout",
     "output_type": "stream",
     "text": [
      "1\n",
      "2\n",
      "3\n",
      "4\n",
      "5\n",
      "None\n"
     ]
    }
   ],
   "source": [
    "def fun(x):\n",
    "    if x==6:\n",
    "        return \n",
    "    print(x)\n",
    "    fun(x+1)\n",
    "print(fun(1))"
   ]
  },
  {
   "cell_type": "code",
   "execution_count": 42,
   "id": "f16f8f8d-b8a3-4ad3-b92c-7c0132b020d0",
   "metadata": {},
   "outputs": [
    {
     "name": "stdout",
     "output_type": "stream",
     "text": [
      "1\n",
      "2\n",
      "3\n",
      "4\n",
      "5\n",
      "5\n",
      "4\n",
      "3\n",
      "2\n",
      "1\n",
      "None\n"
     ]
    }
   ],
   "source": [
    "def fun(x):\n",
    "    if x==6:\n",
    "        return \n",
    "    print(x)\n",
    "    fun(x+1)\n",
    "    print(x)\n",
    "print(fun(1))"
   ]
  },
  {
   "cell_type": "code",
   "execution_count": 45,
   "id": "d8a6f5e9-8180-4e78-a0cd-247610379510",
   "metadata": {},
   "outputs": [
    {
     "name": "stdout",
     "output_type": "stream",
     "text": [
      "1\n",
      "2\n",
      "3\n",
      "4\n",
      "5\n",
      "5\n",
      "4\n",
      "3\n",
      "2\n",
      "1\n"
     ]
    }
   ],
   "source": [
    "def fun(x):\n",
    "    if x==6:\n",
    "        return 500\n",
    "    print(x)\n",
    "    fun(x+1)\n",
    "    print(x)\n",
    "fun(1)"
   ]
  },
  {
   "cell_type": "code",
   "execution_count": 53,
   "id": "c1eee1a8-ff08-4771-af40-53564e446ece",
   "metadata": {},
   "outputs": [
    {
     "name": "stdout",
     "output_type": "stream",
     "text": [
      "1\n",
      "2\n",
      "2\n",
      "500\n",
      "1\n",
      "None\n"
     ]
    }
   ],
   "source": [
    "def fun(x):\n",
    "    if x==3:\n",
    "        return 500\n",
    "    print(x)\n",
    "    t=fun(x+1)\n",
    "    print(x)\n",
    "    print(t)\n",
    "fun(1)"
   ]
  },
  {
   "cell_type": "code",
   "execution_count": 51,
   "id": "4d144726-9e97-4c68-a3fd-225629f431b8",
   "metadata": {},
   "outputs": [
    {
     "name": "stdout",
     "output_type": "stream",
     "text": [
      "1\n",
      "2\n",
      "2\n",
      "1\n"
     ]
    },
    {
     "data": {
      "text/plain": [
       "500"
      ]
     },
     "execution_count": 51,
     "metadata": {},
     "output_type": "execute_result"
    }
   ],
   "source": [
    "def fun(x):\n",
    "    if x==3:\n",
    "        return 500\n",
    "    print(x)\n",
    "    t=fun(x+1)\n",
    "    print(x)\n",
    "    \n",
    "    return t\n",
    "fun(1)"
   ]
  },
  {
   "cell_type": "code",
   "execution_count": 54,
   "id": "f07c3bfb-b88a-4396-8793-a9e0709e8481",
   "metadata": {},
   "outputs": [
    {
     "name": "stdout",
     "output_type": "stream",
     "text": [
      "20\n"
     ]
    }
   ],
   "source": [
    "def fun(x,s):\n",
    "    if x==len(a):\n",
    "        return s\n",
    "    s+=a[x]\n",
    "    return fun(x+1,s)\n",
    "a=[6,7,2,5]\n",
    "print(fun(0,0))"
   ]
  },
  {
   "cell_type": "code",
   "execution_count": 55,
   "id": "c3681bf9-8e9d-4219-80b0-96a407c5027f",
   "metadata": {},
   "outputs": [],
   "source": [
    "#iusing recusrion print sum of even numbers in a list  and odd numbers b list\n",
    "# a=[3,8,5,4,3]\n",
    "# b=[5,0,9,3,2]\n",
    "\n"
   ]
  },
  {
   "cell_type": "code",
   "execution_count": 62,
   "id": "a5ffe317-0ff6-4dea-a7c0-124d0536b4c2",
   "metadata": {},
   "outputs": [
    {
     "name": "stdout",
     "output_type": "stream",
     "text": [
      "18\n",
      "17\n"
     ]
    }
   ],
   "source": [
    "def s_even(lst, n):\n",
    "    if n==0:\n",
    "        return 0\n",
    "    if lst[n-1]%2==0:\n",
    "        return lst[n-1]+s_even(lst,n-1)\n",
    "    else:\n",
    "        return s_even(lst, n-1)\n",
    "def s_odd(lst, n):\n",
    "    if n==0:\n",
    "        return 0\n",
    "    if lst[n-1]%2!=0:\n",
    "        return lst[n-1]+s_odd(lst, n-1)\n",
    "    else:\n",
    "        return s_odd(lst, n-1)\n",
    "a=[3,8,5,4,3,6]\n",
    "b=[5,0,9,3,2]\n",
    "print(s_even(a,len(a)))\n",
    "print(s_odd(b,len(b)))"
   ]
  },
  {
   "cell_type": "code",
   "execution_count": 65,
   "id": "5a4621d3-3348-44c6-a2b4-091d04eade3b",
   "metadata": {},
   "outputs": [
    {
     "name": "stdout",
     "output_type": "stream",
     "text": [
      "12 17\n"
     ]
    }
   ],
   "source": [
    "def e_o_sum(i,s1,s2):\n",
    "    if i==len(a):\n",
    "        return s1,s2\n",
    "    if a[i]%2==0:\n",
    "        s1+=a[i]\n",
    "    if b[i]%2!=0:\n",
    "        s2+=b[i]\n",
    "    return e_o_sum(i+1,s1,s2)\n",
    "a=[3,8,5,4,3]\n",
    "b=[5,0,9,3,2]\n",
    "x,y=e_o_sum(0,0,0)\n",
    "print(x,y)"
   ]
  },
  {
   "cell_type": "code",
   "execution_count": 73,
   "id": "e5e5c715-584e-459b-a060-ce328625496b",
   "metadata": {},
   "outputs": [
    {
     "name": "stdin",
     "output_type": "stream",
     "text": [
      " 10\n"
     ]
    },
    {
     "name": "stdout",
     "output_type": "stream",
     "text": [
      "30\n"
     ]
    }
   ],
   "source": [
    "def recur(n):\n",
    "    if n==0:\n",
    "        return 0\n",
    "    if n%2==0:\n",
    "        return n+recur(n-2)\n",
    "    else:\n",
    "        return recur(n-2)\n",
    "n=int(input())\n",
    "if n%2==0:\n",
    "    print(recur(n))\n",
    "else:\n",
    "    print(recur(n-1))"
   ]
  },
  {
   "cell_type": "code",
   "execution_count": 76,
   "id": "02a604a2-c4c9-48b2-abcf-c003eef55d47",
   "metadata": {},
   "outputs": [
    {
     "name": "stdout",
     "output_type": "stream",
     "text": [
      "yes\n"
     ]
    }
   ],
   "source": [
    "def length(lst):\n",
    "    if len(lst)%2==0:\n",
    "        return \"yes\"\n",
    "    else:\n",
    "        return \"no\"\n",
    "lst=[1,2,3,4]\n",
    "print(length(lst))"
   ]
  },
  {
   "cell_type": "code",
   "execution_count": 80,
   "id": "deec6b7e-c4ee-41bf-9e6d-4752c22e04e1",
   "metadata": {},
   "outputs": [
    {
     "name": "stdout",
     "output_type": "stream",
     "text": [
      "yes\n"
     ]
    }
   ],
   "source": [
    "def length(lst):\n",
    "    if not lst:\n",
    "        return \"yes\"\n",
    "    elif len(lst)==1:\n",
    "        return \"no\"\n",
    "    else:\n",
    "        return length(lst[2:])\n",
    "lst=[1,2,3,4]\n",
    "print(length(lst)) "
   ]
  },
  {
   "cell_type": "code",
   "execution_count": 4,
   "id": "6a10f2aa-7ed2-4d17-a367-5c2d1c5ca139",
   "metadata": {},
   "outputs": [
    {
     "name": "stdout",
     "output_type": "stream",
     "text": [
      "yes\n"
     ]
    }
   ],
   "source": [
    "def length(lst):\n",
    "    i=0\n",
    "    j=len(lst)-1\n",
    "    while i<j:\n",
    "        i+=1\n",
    "        j-=1\n",
    "    if i==j:\n",
    "        return \"no\" \n",
    "    else:\n",
    "        return \"yes\" \n",
    "lst=[5,5,5,5,5,5]\n",
    "print(length(lst))"
   ]
  },
  {
   "cell_type": "code",
   "execution_count": 5,
   "id": "3ba310a8-0aba-439b-a604-feedbad55841",
   "metadata": {},
   "outputs": [
    {
     "data": {
      "text/plain": [
       "'MMFFMFFMFMFMFFMMFFMMF'"
      ]
     },
     "execution_count": 5,
     "metadata": {},
     "output_type": "execute_result"
    }
   ],
   "source": [
    "s=\"\"\n",
    "# which has only \n",
    "\"MMFFMFFMFMFMFFMMFFMMF\"\n"
   ]
  },
  {
   "cell_type": "code",
   "execution_count": 10,
   "id": "7c60eeef-3f3f-4dae-a4ba-27f8d2960d22",
   "metadata": {},
   "outputs": [
    {
     "name": "stdout",
     "output_type": "stream",
     "text": [
      "M - 10\n",
      "F - 11\n",
      "11\n"
     ]
    }
   ],
   "source": [
    "x=\"MMFFMFFMFMFMFFMMFFMMF\"\n",
    "d={}\n",
    "for i in x:\n",
    "    if i in d:\n",
    "        d[i]+=1\n",
    "    else:\n",
    "        d[i]=1\n",
    "for i, j in d.items():\n",
    "    print(i,\"-\" ,j)\n",
    "if d[\"M\"]==d[\"F\"]:\n",
    "    print(0)\n",
    "elif d[\"M\"]>d[\"F\"]:\n",
    "    print(d[\"M\"])\n",
    "else:\n",
    "    print(d[\"F\"])"
   ]
  },
  {
   "cell_type": "code",
   "execution_count": 13,
   "id": "03960b58-640c-408e-b3aa-870586c12342",
   "metadata": {},
   "outputs": [
    {
     "name": "stdout",
     "output_type": "stream",
     "text": [
      "11\n"
     ]
    }
   ],
   "source": [
    "m=f=0\n",
    "for i in x:\n",
    "    if i==\"M\":\n",
    "        m+=1\n",
    "    else:\n",
    "        f+=1\n",
    "if m==f:\n",
    "    print(0)\n",
    "if m>f:\n",
    "    print(m)\n",
    "else:\n",
    "    print(f)"
   ]
  },
  {
   "cell_type": "code",
   "execution_count": 15,
   "id": "f9a48243-baea-48b5-8ec4-c4870d490df7",
   "metadata": {},
   "outputs": [
    {
     "name": "stdout",
     "output_type": "stream",
     "text": [
      "11\n"
     ]
    }
   ],
   "source": [
    "c=0\n",
    "for i in x:\n",
    "    if i==\"M\":\n",
    "        c+=1\n",
    "c1=len(x)-c\n",
    "if c==c1:\n",
    "    print(0)\n",
    "elif c>c1:\n",
    "    print(c)\n",
    "else:\n",
    "    print(c1)"
   ]
  },
  {
   "cell_type": "code",
   "execution_count": 16,
   "id": "3cbfa484-eb8d-420e-8de6-84be67123f63",
   "metadata": {},
   "outputs": [
    {
     "name": "stdout",
     "output_type": "stream",
     "text": [
      "F\n"
     ]
    }
   ],
   "source": [
    "c=0\n",
    "for i in x:\n",
    "    if i==\"M\":\n",
    "        c+=1\n",
    "    else:\n",
    "        c-=1\n",
    "if c>0:\n",
    "    print(\"M\")\n",
    "else:\n",
    "    print(\"F\")"
   ]
  },
  {
   "cell_type": "code",
   "execution_count": 21,
   "id": "ce64016d-f545-4113-bf23-81f826d67f74",
   "metadata": {},
   "outputs": [],
   "source": [
    "class Solution:\n",
    "    def leftRightDifference(nums):\n",
    "        s=sum(nums)\n",
    "        x=0\n",
    "        j=0\n",
    "        for i in nums:\n",
    "            nums[j]=abs((x)-(s-i-x))\n",
    "            x+=i\n",
    "            j+=1\n",
    "        return nums\n"
   ]
  },
  {
   "cell_type": "code",
   "execution_count": null,
   "id": "cbe53fc5-6b69-41c6-b8c2-2ac5634e6526",
   "metadata": {},
   "outputs": [],
   "source": [
    "class Solution:\n",
    "    def decode(self, encoded: List[int], first: int) -> List[int]:\n",
    "        x=[first]\n",
    "        for i in encoded:\n",
    "            x.append(x[-1]^i)\n",
    "        return x"
   ]
  },
  {
   "cell_type": "code",
   "execution_count": null,
   "id": "33314d33-c6a0-4dc4-a7ca-f1fce4e20fad",
   "metadata": {},
   "outputs": [],
   "source": [
    "class Solution:\n",
    "    def createTargetArray(self, nums: List[int], index: List[int]) -> List[int]:\n",
    "        tar=[]\n",
    "        for i in range(len(index)):\n",
    "            tar.insert(index[i],nums[i])\n",
    "        return tar"
   ]
  },
  {
   "cell_type": "code",
   "execution_count": 37,
   "id": "fce609df-dcd5-46ef-96eb-af1c661ca409",
   "metadata": {},
   "outputs": [
    {
     "name": "stdout",
     "output_type": "stream",
     "text": [
      "lecoe\n"
     ]
    }
   ],
   "source": [
    "def removestar(s):\n",
    "    lst=[]\n",
    "    for i in s:\n",
    "        if i=='*':\n",
    "            if lst:\n",
    "                lst.pop() \n",
    "        else:\n",
    "            lst.append(i)\n",
    "    return ''.join(lst) if lst else \"emoty\"\n",
    "s=\"leet**cod*e\"\n",
    "print(removestar(s)) \n"
   ]
  },
  {
   "cell_type": "code",
   "execution_count": 34,
   "id": "a19f5a6f-ba64-4c6d-9f94-58586d09185b",
   "metadata": {},
   "outputs": [],
   "source": [
    "# we are converting infox to postfix becoz computer dontknow bodmas rule fo that purpose to understand the bodmas rule to computer\n",
    "#we are converting infiz to postfic"
   ]
  },
  {
   "cell_type": "code",
   "execution_count": 47,
   "id": "bc8a12eb-36de-4360-9346-bc82f4a923d8",
   "metadata": {},
   "outputs": [
    {
     "name": "stdout",
     "output_type": "stream",
     "text": [
      "This is a sentence\n"
     ]
    }
   ],
   "source": [
    "def sort_sentence(s):\n",
    "    words=s.split()\n",
    "    sorted_w=sorted(words,key=lambda word: int(word[-1]))\n",
    "    sorted_s=' '.join(word[:-1] for word in sorted_w)\n",
    "    return sorted_s\n",
    "x=\"is2 sentence4 This1 a3\"\n",
    "print(sort_sentence(x))"
   ]
  },
  {
   "cell_type": "code",
   "execution_count": 49,
   "id": "8ab28ed0-0d27-4af4-80bc-18f284b5b16b",
   "metadata": {},
   "outputs": [
    {
     "name": "stdout",
     "output_type": "stream",
     "text": [
      "This is a sentence\n"
     ]
    }
   ],
   "source": [
    "res=[]\n",
    "for i in x.split(\" \"):\n",
    "    res.insert(int(i[-1])-1,i[:-1])\n",
    "print(\" \".join(res))"
   ]
  },
  {
   "cell_type": "code",
   "execution_count": null,
   "id": "d543d3b1-cc0f-4e27-ba8a-06c4d781096c",
   "metadata": {},
   "outputs": [],
   "source": []
  },
  {
   "cell_type": "code",
   "execution_count": null,
   "id": "74486654-f4a2-4dfb-a7ab-c327edb201ad",
   "metadata": {},
   "outputs": [],
   "source": []
  }
 ],
 "metadata": {
  "kernelspec": {
   "display_name": "Python 3 (ipykernel)",
   "language": "python",
   "name": "python3"
  },
  "language_info": {
   "codemirror_mode": {
    "name": "ipython",
    "version": 3
   },
   "file_extension": ".py",
   "mimetype": "text/x-python",
   "name": "python",
   "nbconvert_exporter": "python",
   "pygments_lexer": "ipython3",
   "version": "3.12.1"
  }
 },
 "nbformat": 4,
 "nbformat_minor": 5
}
