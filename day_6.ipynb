{
 "cells": [
  {
   "cell_type": "code",
   "execution_count": 3,
   "id": "0ac8ab66-f988-4329-9cfc-f8e85298aa03",
   "metadata": {},
   "outputs": [],
   "source": [
    "x=[4.8,2,4,4,8,4]\n",
    "\n"
   ]
  },
  {
   "cell_type": "code",
   "execution_count": 19,
   "id": "290ee9f1-577d-489d-8993-3de92b59fecf",
   "metadata": {},
   "outputs": [
    {
     "name": "stdout",
     "output_type": "stream",
     "text": [
      "4\n"
     ]
    }
   ],
   "source": [
    "def freq(arr):\n",
    "    d={}\n",
    "    for i in arr:\n",
    "        if i in d:\n",
    "            d[i]+=1\n",
    "        else:\n",
    "            d[i]=1\n",
    "    for key,val in d.items():\n",
    "        if val>(len(arr)//2):\n",
    "            print(key)\n",
    "        \n",
    "arr=[4,8,2,4,4,8,4]\n",
    "freq(arr)\n",
    "    "
   ]
  },
  {
   "cell_type": "code",
   "execution_count": 29,
   "id": "f94727c3-641c-44cc-80da-61377365cbb6",
   "metadata": {},
   "outputs": [
    {
     "name": "stdout",
     "output_type": "stream",
     "text": [
      "1\n"
     ]
    }
   ],
   "source": [
    "def freq(arr):\n",
    "    l=0\n",
    "    r=len(arr)-1\n",
    "    mx=0\n",
    "    c=0\n",
    "    while l<=r:\n",
    "        if arr[l]==arr[r]:\n",
    "            c+=1\n",
    "            mx=max(mx,c)\n",
    "            x=arr[mx]\n",
    "        l+=1\n",
    "        r-=1\n",
    "    while l<r and arr[l]==arr[l-1]:\n",
    "        c+=1\n",
    "    while l<r and arr[r]==arr[r+1]:\n",
    "        c+=1\n",
    "    mx=max(mx,c)\n",
    "    x=arr[mx]\n",
    "    return x\n",
    "arr=[2,1,2,2]\n",
    "print(freq(arr))\n",
    "            "
   ]
  },
  {
   "cell_type": "code",
   "execution_count": 58,
   "id": "9ea1df05-61dc-4cb2-9c8a-843045baacb7",
   "metadata": {},
   "outputs": [
    {
     "name": "stdout",
     "output_type": "stream",
     "text": [
      "2\n"
     ]
    }
   ],
   "source": [
    "arr=[2,2,1,1,1,2,2]\n",
    "c=1\n",
    "w=arr[0]\n",
    "for i in range(1,len(arr)):\n",
    "    if w==arr[i]:\n",
    "        c+=1\n",
    "    else:\n",
    "        \n",
    "        c-=1\n",
    "        if c==0:\n",
    "            w=arr[i]\n",
    "            \n",
    "print(w)"
   ]
  },
  {
   "cell_type": "code",
   "execution_count": 66,
   "id": "7d15c1df-02c1-446d-94c9-ebcb8a916e84",
   "metadata": {},
   "outputs": [
    {
     "name": "stdout",
     "output_type": "stream",
     "text": [
      "4\n"
     ]
    }
   ],
   "source": [
    "def missing_no(arr):\n",
    "    chk=0\n",
    "    for i in range(len(arr)):\n",
    "        if arr[i]==1:\n",
    "            chk+=1\n",
    "        if arr[i]<=0:\n",
    "            arr[i]=1\n",
    "    if chk==0:\n",
    "        return 1\n",
    "    for i in range(len(arr)):\n",
    "        val = abs(arr[i])-1\n",
    "        if val>=0 and val<len(arr):\n",
    "            arr[val]=-1*abs(arr[val])\n",
    "    for i in range(len(arr)):\n",
    "        if arr[i]>0:\n",
    "            return i+1\n",
    "    return len(arr)+1\n",
    "arr=[1,2,3,6]\n",
    "print(missing_no(arr))"
   ]
  },
  {
   "cell_type": "code",
   "execution_count": 71,
   "id": "824b3c00-3495-4659-bc6f-df5b6374d49b",
   "metadata": {},
   "outputs": [
    {
     "name": "stdout",
     "output_type": "stream",
     "text": [
      "-5\n"
     ]
    }
   ],
   "source": [
    "def find_missing(nums):\n",
    "    n=len(nums)\n",
    "    tot_sum = (n*(n+1))//2\n",
    "    s=sum(nums)\n",
    "    return tot_sum-s\n",
    "nums = [1,2,3,90]\n",
    "result = find_missing(nums)\n",
    "print(result)"
   ]
  },
  {
   "cell_type": "code",
   "execution_count": 72,
   "id": "a805c06d-91ca-494c-b02b-16a964101bf6",
   "metadata": {
    "scrolled": true
   },
   "outputs": [
    {
     "name": "stdout",
     "output_type": "stream",
     "text": [
      "4\n"
     ]
    }
   ],
   "source": [
    "def find_factors(n):\n",
    "    factors=[]\n",
    "    for i in range(1,int(n**0.5) + 1):\n",
    "        if n%i==0:\n",
    "            factors.append(i)\n",
    "            if i!=n//i: \n",
    "                factors.append(n//i)\n",
    "    return sorted(factors)\n",
    "def kth_greates(num,k):\n",
    "    factors=find_factors(num)\n",
    "    if k<=len(factors):\n",
    "        \n",
    "        return factors[-k] \n",
    "    else:\n",
    "        return None \n",
    "n=16\n",
    "k=3\n",
    "x=kth_greates(n,k)\n",
    "if x:\n",
    "    print(x)\n",
    "else:\n",
    "    print(\"no factors\")"
   ]
  },
  {
   "cell_type": "code",
   "execution_count": null,
   "id": "407e2e76-46e9-4aa6-b9d0-9b1aafacdb5e",
   "metadata": {},
   "outputs": [],
   "source": []
  },
  {
   "cell_type": "code",
   "execution_count": 92,
   "id": "76ad7e50-ecf9-48c5-8a8f-5d0eeffbd8c9",
   "metadata": {},
   "outputs": [
    {
     "name": "stdout",
     "output_type": "stream",
     "text": [
      "co co\n"
     ]
    }
   ],
   "source": [
    "import math\n",
    "n1=2\n",
    "n2=8\n",
    "gcd=math.gcd(n1,n2)\n",
    "if gcd==1:\n",
    "    print(\"co co\")\n",
    "else:\n",
    "    print(\"not co\")"
   ]
  },
  {
   "cell_type": "code",
   "execution_count": 94,
   "id": "758709f6-95f4-4175-9d18-88b17d125696",
   "metadata": {},
   "outputs": [
    {
     "name": "stdout",
     "output_type": "stream",
     "text": [
      "no cop\n"
     ]
    }
   ],
   "source": [
    "def gcdd(a,b):\n",
    "    while b!=0:\n",
    "        a,b=b,a % b\n",
    "    return a\n",
    "n1=2\n",
    "n2=8\n",
    "x=gcdd(n1,n2)\n",
    "if x==1:\n",
    "    print(\"co co\")\n",
    "else:\n",
    "    print(\"not cop\")"
   ]
  },
  {
   "cell_type": "code",
   "execution_count": 95,
   "id": "8456f332-a999-43de-84dc-97660056a60d",
   "metadata": {},
   "outputs": [
    {
     "name": "stdout",
     "output_type": "stream",
     "text": [
      "co co\n"
     ]
    }
   ],
   "source": [
    "n1=4\n",
    "n2=5\n",
    "s1=set()\n",
    "s2=set()\n",
    "for i in range(1,n1+1):\n",
    "    if n1%i==0:\n",
    "        s1.add(i)\n",
    "for i in range(1,n2+1):\n",
    "    if n2%i==0:  \n",
    "        s2.add(i)\n",
    "cmn=s1.intersection(s2)\n",
    "if cmn=={1}:\n",
    "    print(\"co co\")\n",
    "else:\n",
    "    print(\"not co\")"
   ]
  },
  {
   "cell_type": "code",
   "execution_count": 103,
   "id": "7d3e117b-0968-4e74-8f4e-20e050fa0586",
   "metadata": {},
   "outputs": [
    {
     "name": "stdout",
     "output_type": "stream",
     "text": [
      "True\n"
     ]
    }
   ],
   "source": [
    "def isValid(s):\n",
    "    stack=[]\n",
    "    d={\")\":\"(\",\"]\":\"[\",\"}\":\"{\"}\n",
    "    for char in s:\n",
    "        if char in d.values():\n",
    "            stack.append(char)\n",
    "        elif char in d.keys():\n",
    "            if not stack or stack.pop()!=d[char]:\n",
    "                return False\n",
    "        else:\n",
    "            return False\n",
    "    return not stack\n",
    "s=\"(([]))\"\n",
    "print(isValid(s))"
   ]
  },
  {
   "cell_type": "raw",
   "id": "dedf89b9-bcb6-45eb-8705-8f82898f2ee8",
   "metadata": {},
   "source": [
    "Print the elements of an array in the decreasing frequency if 2 numbers have the same frequency then print the one which came first\n",
    "\n",
    "Examples:  \n",
    "\n",
    "Input:  arr[] = {2, 5, 2, 8, 5, 6, 8, 8}\n",
    "Output: arr[] = {8, 8, 8, 2, 2, 5, 5, 6}\n",
    "\n",
    "Input: arr[] = {2, 5, 2, 6, -1, 9999999, 5, 8, 8, 8}\n",
    "Output: arr[] = {8, 8, 8, 2, 2, 5, 5, 6, -1, 9999999}"
   ]
  },
  {
   "cell_type": "code",
   "execution_count": 15,
   "id": "4a79dc71-82cf-4f93-854c-3d6419140fbd",
   "metadata": {},
   "outputs": [
    {
     "name": "stdout",
     "output_type": "stream",
     "text": [
      "[8, 8, 8, 2, 2, 5, 5, 6]\n"
     ]
    }
   ],
   "source": [
    "arr=[2, 5, 2, 8, 5, 6, 8, 8]\n",
    "d={}\n",
    "c={}\n",
    "for i,j in enumerate(arr):\n",
    "    if j in d:\n",
    "        d[j]+=1\n",
    "    else:\n",
    "        d[j]=1\n",
    "        c[j]=i\n",
    "x=sorted(arr,key=lambda a: (-d[a],c[a]))\n",
    "print(x)\n",
    "    \n"
   ]
  },
  {
   "cell_type": "code",
   "execution_count": 13,
   "id": "202871e4-793a-486a-bfbe-b9a9d5a5b502",
   "metadata": {},
   "outputs": [
    {
     "name": "stdout",
     "output_type": "stream",
     "text": [
      "[8, 8, 8, 2, 2, 5, 5, 6]\n",
      "[8, 8, 8, 2, 2, 5, 5, 6, -1, 9999999]\n"
     ]
    }
   ],
   "source": [
    "def sort_by_frequency(arr):\n",
    "    # Step 1: Count the frequency of each element\n",
    "    frequency = {}\n",
    "    first_occurrence = {}\n",
    "    \n",
    "    for index, value in enumerate(arr):\n",
    "        if value in frequency:\n",
    "            frequency[value] += 1\n",
    "        else:\n",
    "            frequency[value] = 1\n",
    "            first_occurrence[value] = index\n",
    "    \n",
    "    # Step 2: Sort the elements by frequency and first occurrence\n",
    "    sorted_arr = sorted(arr, key=lambda x: (-frequency[x], first_occurrence[x]))\n",
    "    \n",
    "    return sorted_arr\n",
    "\n",
    "# Test cases\n",
    "arr1 = [2, 5, 2, 8, 5, 6, 8, 8]\n",
    "arr2 = [2, 5, 2, 6, -1, 9999999, 5, 8, 8, 8]\n",
    "\n",
    "print(sort_by_frequency(arr1))  # Output: [8, 8, 8, 2, 2, 5, 5, 6]\n",
    "print(sort_by_frequency(arr2))  # Output: [8, 8, 8, 2, 2, 5, 5, 6, -1, 9999999]\n"
   ]
  },
  {
   "cell_type": "code",
   "execution_count": null,
   "id": "d1e30565-e52f-45de-966c-7e690b7597a4",
   "metadata": {},
   "outputs": [],
   "source": []
  }
 ],
 "metadata": {
  "kernelspec": {
   "display_name": "Python 3 (ipykernel)",
   "language": "python",
   "name": "python3"
  },
  "language_info": {
   "codemirror_mode": {
    "name": "ipython",
    "version": 3
   },
   "file_extension": ".py",
   "mimetype": "text/x-python",
   "name": "python",
   "nbconvert_exporter": "python",
   "pygments_lexer": "ipython3",
   "version": "3.12.1"
  }
 },
 "nbformat": 4,
 "nbformat_minor": 5
}
