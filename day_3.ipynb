{
 "cells": [
  {
   "cell_type": "code",
   "execution_count": 1,
   "id": "bd3363a8-1620-4b8b-bee3-500f6d828d01",
   "metadata": {},
   "outputs": [
    {
     "name": "stdin",
     "output_type": "stream",
     "text": [
      " sfdajkfjlkas\n"
     ]
    }
   ],
   "source": [
    "n=input()"
   ]
  },
  {
   "cell_type": "code",
   "execution_count": 9,
   "id": "ba09548d-b94e-4597-8f67-3acd745f67bb",
   "metadata": {},
   "outputs": [
    {
     "name": "stdout",
     "output_type": "stream",
     "text": [
      "hello\n"
     ]
    }
   ],
   "source": [
    "n=\"khoor\"\n",
    "s=\"\"\n",
    "for i in n:\n",
    "    s+=chr(ord(i)-3)\n",
    "print(s)"
   ]
  },
  {
   "cell_type": "raw",
   "id": "650026f3-c359-4b3a-a256-9bc5a3400ff4",
   "metadata": {},
   "source": [
    "if the input is \n",
    "bcdmnwc\n",
    "m=9\n",
    "output is \n",
    "student\n",
    "\n",
    "testcase 2\n",
    "bvec\n",
    "4\n",
    "output\n",
    "xray\n",
    "\n",
    "\n",
    "testcase 3\n",
    "khoor\n",
    "4\n",
    "hello"
   ]
  },
  {
   "cell_type": "code",
   "execution_count": 21,
   "id": "e1c336e9-10b9-4b0d-b417-5dbf080897ef",
   "metadata": {},
   "outputs": [
    {
     "data": {
      "text/plain": [
       "1"
      ]
     },
     "execution_count": 21,
     "metadata": {},
     "output_type": "execute_result"
    }
   ],
   "source": [
    "((m-(ord(i)-ord('a'))-1))"
   ]
  },
  {
   "cell_type": "code",
   "execution_count": 55,
   "id": "fe87ee5e-df9e-4df3-a081-cdc33c81918e",
   "metadata": {},
   "outputs": [
    {
     "name": "stdout",
     "output_type": "stream",
     "text": [
      "x\n",
      "r\n",
      "a\n",
      "y\n"
     ]
    }
   ],
   "source": [
    "n=\"bvec\"\n",
    "m=4\n",
    "c=m%26\n",
    "for i in n:\n",
    "    if (ord(i)-c)>=97:\n",
    "        print(chr(ord(i)-c))\n",
    "    else:\n",
    "        print(chr(ord(i)-c+26))"
   ]
  },
  {
   "cell_type": "code",
   "execution_count": 80,
   "id": "2f6ae1e7-a3ff-42be-990c-8bf7e08ab07e",
   "metadata": {},
   "outputs": [
    {
     "name": "stdout",
     "output_type": "stream",
     "text": [
      "5\n"
     ]
    }
   ],
   "source": [
    "def sub_string(s):\n",
    "    mx=1\n",
    "    c=1\n",
    "    n=len(s)\n",
    "    for i in range(1,n):\n",
    "        if s[i]==chr(ord(s[i-1])+1):\n",
    "            c+=1\n",
    "        else:\n",
    "            mx=max(mx,c)\n",
    "            c=1\n",
    "    mx=max(mx,c)\n",
    "    return mx\n",
    "s=\"abcde\"\n",
    "print(sub_string(s))"
   ]
  },
  {
   "cell_type": "code",
   "execution_count": null,
   "id": "e2e17ebd-01d9-4ac7-adaf-5e40a7bcae82",
   "metadata": {},
   "outputs": [],
   "source": [
    "a=input()\n"
   ]
  },
  {
   "cell_type": "code",
   "execution_count": 75,
   "id": "aaa974e3-88e1-45ce-84d8-8fa30e59de4c",
   "metadata": {},
   "outputs": [
    {
     "name": "stdout",
     "output_type": "stream",
     "text": [
      "16\n"
     ]
    }
   ],
   "source": [
    "def longest_substr(s):\n",
    "    start=0\n",
    "    max_len=0\n",
    "    d={}\n",
    "    for i in range(len(s)):\n",
    "        if s[i] in d and d[s[i]]>=start:\n",
    "            start=d[s[i]]+1\n",
    "        d[s[i]]=i\n",
    "        max_len=max(max_len,i-start+1)\n",
    "    return max_len\n",
    "s=\"xyzabcdefklmnopqefgh\"\n",
    "print(longest_substr(s))"
   ]
  },
  {
   "cell_type": "code",
   "execution_count": 94,
   "id": "3ad0f9c3-625a-4ff8-be63-bb335e938d68",
   "metadata": {},
   "outputs": [
    {
     "name": "stdin",
     "output_type": "stream",
     "text": [
      " xyz\n",
      " pqr\n",
      " abc\n"
     ]
    },
    {
     "data": {
      "text/plain": [
       "['xyz', 'pqr', 'abc']"
      ]
     },
     "execution_count": 94,
     "metadata": {},
     "output_type": "execute_result"
    }
   ],
   "source": [
    "a=3\n",
    "b=[input() for i in range(a)]\n",
    "b"
   ]
  },
  {
   "cell_type": "code",
   "execution_count": 123,
   "id": "6e160950-0d03-465b-8ec7-3108b428fa16",
   "metadata": {},
   "outputs": [
    {
     "name": "stdin",
     "output_type": "stream",
     "text": [
      " dsjfkajf\n"
     ]
    },
    {
     "name": "stdout",
     "output_type": "stream",
     "text": [
      "no\n"
     ]
    }
   ],
   "source": [
    "d={}\n",
    "x=0\n",
    "x=input()\n",
    "for i in range(len(x)):\n",
    "    if x[i] not in b[i%a]:\n",
    "        print(\"no\")\n",
    "        break\n",
    "else:\n",
    "    print(\"yes\")"
   ]
  },
  {
   "cell_type": "code",
   "execution_count": null,
   "id": "0996d75c-400e-45d5-813f-63dd135acb11",
   "metadata": {},
   "outputs": [],
   "source": []
  },
  {
   "cell_type": "code",
   "execution_count": 114,
   "id": "46bbd0b8-416b-48f7-8e28-2a1a3eeb46ba",
   "metadata": {},
   "outputs": [
    {
     "name": "stdin",
     "output_type": "stream",
     "text": [
      " 4\n",
      " wxyz\n",
      " abcd\n",
      " pqrs\n",
      " ghij\n",
      " ebqizasjwsg\n"
     ]
    },
    {
     "name": "stdout",
     "output_type": "stream",
     "text": [
      "no\n"
     ]
    }
   ],
   "source": [
    "n=int(input())\n",
    "matrix=[]\n",
    "for i in range(n):\n",
    "    row=input()\n",
    "    matrix.append(row)\n",
    "s=input()\n",
    "i=0\n",
    "for row in matrix:\n",
    "    if s[i] in row:\n",
    "        x=1\n",
    "        i+=1\n",
    "    else:\n",
    "        print(\"no\")\n",
    "        break\n",
    "else:\n",
    "    if x:\n",
    "        print(\"yes\")"
   ]
  },
  {
   "cell_type": "code",
   "execution_count": null,
   "id": "8ef3067c-b61c-4a79-a177-f43314e1dd6b",
   "metadata": {},
   "outputs": [],
   "source": [
    "4\n",
    " wxyz\n",
    " abcd\n",
    " pqrs\n",
    " ghij\n",
    " ebqizasjwsg\n",
    "yes"
   ]
  },
  {
   "cell_type": "code",
   "execution_count": 142,
   "id": "36d7938a-3c22-4ef7-98de-9598b11b1515",
   "metadata": {},
   "outputs": [
    {
     "name": "stdin",
     "output_type": "stream",
     "text": [
      " 3\n",
      " xyz\n",
      " pqr\n",
      " abc\n",
      " xpaxqb\n"
     ]
    },
    {
     "name": "stdout",
     "output_type": "stream",
     "text": [
      "no\n"
     ]
    }
   ],
   "source": [
    "n=int(input())\n",
    "matrix=[]\n",
    "for i in range(n):\n",
    "    row=list(input())\n",
    "    matrix.append(row)\n",
    "s=input()\n",
    "f=0\n",
    "for i in range(len(s)):\n",
    "    if s[i] not in matrix[i%n]:\n",
    "        print(\"no\")\n",
    "        f=1\n",
    "        break\n",
    "    else:\n",
    "        matrix[i].remove(s[i])\n",
    "if f==0:\n",
    "    print(\"yes\")"
   ]
  },
  {
   "cell_type": "code",
   "execution_count": 2,
   "id": "1efbc112-83e9-4572-8e29-8b1cc6551ad9",
   "metadata": {},
   "outputs": [],
   "source": [
    "# set doesnt allow  list and set inside the set\n",
    "\n",
    "#5 and 5.0  are duplicates\n",
    "\n"
   ]
  },
  {
   "cell_type": "code",
   "execution_count": 1,
   "id": "01ccbfc5-a8fa-43dc-b646-3d5b6bc591b1",
   "metadata": {},
   "outputs": [],
   "source": [
    "#1) 4 houses in each house i \n",
    "\n",
    "# 4 1 3 7\n",
    "\n",
    "#3 rats \n",
    "\n",
    "#5 units will be consumed by each rat\n",
    "\n",
    "#output 0\n"
   ]
  },
  {
   "cell_type": "code",
   "execution_count": 3,
   "id": "471a3791-b928-4884-b853-394111c71abd",
   "metadata": {},
   "outputs": [],
   "source": [
    "#week ki 6 days\n",
    "#15 3 2 7 8 4\n",
    "#when to buy and when to sell"
   ]
  },
  {
   "cell_type": "code",
   "execution_count": 4,
   "id": "67dfea57-b633-4cd7-9d15-e4563dd319d8",
   "metadata": {},
   "outputs": [
    {
     "ename": "SyntaxError",
     "evalue": "invalid syntax (4215553365.py, line 1)",
     "output_type": "error",
     "traceback": [
      "\u001b[1;36m  Cell \u001b[1;32mIn[4], line 1\u001b[1;36m\u001b[0m\n\u001b[1;33m    * * * *\u001b[0m\n\u001b[1;37m      ^\u001b[0m\n\u001b[1;31mSyntaxError\u001b[0m\u001b[1;31m:\u001b[0m invalid syntax\n"
     ]
    }
   ],
   "source": [
    "* * * *\n",
    "* 1 2 *\n",
    "* 3 4 *\n",
    "* * * *"
   ]
  },
  {
   "cell_type": "code",
   "execution_count": 7,
   "id": "9a322bf0-4595-4192-bf27-70d6d740af5a",
   "metadata": {},
   "outputs": [
    {
     "name": "stdout",
     "output_type": "stream",
     "text": [
      "****\n",
      "*22*\n",
      "*22*\n",
      "****\n"
     ]
    }
   ],
   "source": [
    "rows=4\n",
    "cols=4\n",
    "\n",
    "for i in range(rows):\n",
    "    for j in range(cols):\n",
    "        if i==0 or i==rows-1 or j==0 or j==cols-1:\n",
    "            print(\"*\",end=\"\")\n",
    "        else:\n",
    "            print(1+1,end=\"\")\n",
    "    print()"
   ]
  },
  {
   "cell_type": "code",
   "execution_count": 5,
   "id": "e1491a88-13fe-43dc-961e-2bcdb3b521b5",
   "metadata": {},
   "outputs": [
    {
     "data": {
      "text/plain": [
       "'\\ninp \\n5\\na\\naba\\nabcba\\nabcdcba\\nabcdedcba\\n____\\n\\n\\n'"
      ]
     },
     "execution_count": 5,
     "metadata": {},
     "output_type": "execute_result"
    }
   ],
   "source": [
    "'''\n",
    "inp \n",
    "5\n",
    "a\n",
    "aba\n",
    "abcba\n",
    "abcdcba\n",
    "abcdedcba\n",
    "____\n",
    "\n",
    "\n",
    "'''\n",
    "# welcome hackerrank"
   ]
  },
  {
   "cell_type": "code",
   "execution_count": 6,
   "id": "e6d580c1-2912-49dd-8936-8414deadd5b2",
   "metadata": {},
   "outputs": [
    {
     "data": {
      "text/plain": [
       "'\\n1 outer layer\\n2 inner layer\\n3 inner layer\\n4 in middle\\n'"
      ]
     },
     "execution_count": 6,
     "metadata": {},
     "output_type": "execute_result"
    }
   ],
   "source": [
    "input \n",
    "4\n",
    "'''\n",
    "1 outer layer\n",
    "2 inner layer\n",
    "3 inner layer\n",
    "4 in middle\n",
    "'''"
   ]
  },
  {
   "cell_type": "code",
   "execution_count": 8,
   "id": "60baee78-0e2d-4a4b-8280-d56750c143fa",
   "metadata": {},
   "outputs": [
    {
     "data": {
      "text/plain": [
       "174"
      ]
     },
     "execution_count": 8,
     "metadata": {},
     "output_type": "execute_result"
    }
   ],
   "source": [
    "def fun(x):\n",
    "    if x==1:\n",
    "        return 2\n",
    "    if x==2:\n",
    "        return 3\n",
    "    if x==3:\n",
    "        return 4\n",
    "    return fun(x-2)+fun(x-1)+fun(x-3)+x\n",
    "fun(8)"
   ]
  },
  {
   "cell_type": "code",
   "execution_count": null,
   "id": "e49bb073-a77c-4359-a436-3acd9e3f2516",
   "metadata": {},
   "outputs": [],
   "source": []
  }
 ],
 "metadata": {
  "kernelspec": {
   "display_name": "Python 3 (ipykernel)",
   "language": "python",
   "name": "python3"
  },
  "language_info": {
   "codemirror_mode": {
    "name": "ipython",
    "version": 3
   },
   "file_extension": ".py",
   "mimetype": "text/x-python",
   "name": "python",
   "nbconvert_exporter": "python",
   "pygments_lexer": "ipython3",
   "version": "3.12.1"
  }
 },
 "nbformat": 4,
 "nbformat_minor": 5
}
